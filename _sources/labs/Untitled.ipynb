{
 "cells": [
  {
   "cell_type": "code",
   "execution_count": 5,
   "id": "35a11bb4",
   "metadata": {},
   "outputs": [],
   "source": [
    "from river.base import DriftDetector\n",
    "from river.drift import ADWIN, KSWIN, PageHinkley\n",
    "from river.stream import iter_pandas"
   ]
  },
  {
   "cell_type": "code",
   "execution_count": 9,
   "id": "178c301b",
   "metadata": {},
   "outputs": [
    {
     "ename": "AttributeError",
     "evalue": "module 'river.drift' has no attribute 'DDM'",
     "output_type": "error",
     "traceback": [
      "\u001b[0;31m---------------------------------------------------------------------------\u001b[0m",
      "\u001b[0;31mAttributeError\u001b[0m                            Traceback (most recent call last)",
      "Cell \u001b[0;32mIn [9], line 5\u001b[0m\n\u001b[1;32m      2\u001b[0m \u001b[38;5;28;01mfrom\u001b[39;00m \u001b[38;5;21;01mriver\u001b[39;00m \u001b[38;5;28;01mimport\u001b[39;00m drift\n\u001b[1;32m      4\u001b[0m rng \u001b[38;5;241m=\u001b[39m random\u001b[38;5;241m.\u001b[39mRandom(\u001b[38;5;241m42\u001b[39m)\n\u001b[0;32m----> 5\u001b[0m ddm \u001b[38;5;241m=\u001b[39m drift\u001b[38;5;241m.\u001b[39mDDM()\n",
      "\u001b[0;31mAttributeError\u001b[0m: module 'river.drift' has no attribute 'DDM'"
     ]
    }
   ],
   "source": [
    "import random\n",
    "from river import drift\n",
    "\n",
    "rng = random.Random(42)\n",
    "ddm = drift.DDM()"
   ]
  },
  {
   "cell_type": "code",
   "execution_count": 8,
   "id": "96c52992",
   "metadata": {},
   "outputs": [
    {
     "ename": "AttributeError",
     "evalue": "module 'river.drift' has no attribute 'DDM'",
     "output_type": "error",
     "traceback": [
      "\u001b[0;31m---------------------------------------------------------------------------\u001b[0m",
      "\u001b[0;31mAttributeError\u001b[0m                            Traceback (most recent call last)",
      "Cell \u001b[0;32mIn [8], line 3\u001b[0m\n\u001b[1;32m      1\u001b[0m \u001b[38;5;28;01mimport\u001b[39;00m \u001b[38;5;21;01mriver\u001b[39;00m\n\u001b[0;32m----> 3\u001b[0m river\u001b[38;5;241m.\u001b[39mdrift\u001b[38;5;241m.\u001b[39mDDM\n",
      "\u001b[0;31mAttributeError\u001b[0m: module 'river.drift' has no attribute 'DDM'"
     ]
    }
   ],
   "source": [
    "import river\n",
    "\n",
    "river.drift.DDM"
   ]
  }
 ],
 "metadata": {
  "kernelspec": {
   "display_name": "Python 3 (ipykernel)",
   "language": "python",
   "name": "python3"
  },
  "language_info": {
   "codemirror_mode": {
    "name": "ipython",
    "version": 3
   },
   "file_extension": ".py",
   "mimetype": "text/x-python",
   "name": "python",
   "nbconvert_exporter": "python",
   "pygments_lexer": "ipython3",
   "version": "3.9.13"
  }
 },
 "nbformat": 4,
 "nbformat_minor": 5
}
