{
 "cells": [
  {
   "cell_type": "markdown",
   "id": "5dedd14b",
   "metadata": {},
   "source": [
    "# Propozycja projektu"
   ]
  },
  {
   "cell_type": "markdown",
   "id": "5c36bfe1",
   "metadata": {},
   "source": [
    "[Data]  \n",
    "[Lista członków zespołu]  \n",
    "[Akronim projektu]  \n",
    "\n",
    "<p align=\"center\">\n",
    "Propozycja projektu: <b> [Nazwa projektu] </b>\n",
    "</p>\n",
    "\n",
    "<br/><br/>\n",
    "**Tło projektu**  \n",
    "Dlaczego akurat ten projekt jest realizowany? Opisz pokrótce niszę lub problem który jest w nim zaadresowany\n",
    "\n",
    "<br/><br/>\n",
    "**Naukowe/technologiczne pytania**  \n",
    "Przedstaw listę pytań/hipotez na które postarasz się odpowiedzieć dzięki realizacji projektu. \n",
    "Pytania mogą być naukowe (np. \"Czy styl pisarski tweetów pozwala na deanonimizację użytkowników?\") lub technologiczne (np. \"Jak wiele danych potrzeba by wytrenować fine-tunować wielojęzykowy transformer, by osiągał skuteczność równą monojęzykowemu odpowiednikowi?\")\n",
    "\n",
    "<br/><br/>\n",
    "**Rezultat końcowy**  \n",
    "Napisz w maksymalnie 3 zdaniach, jaki jest przewidywalny finalny efekt projektu - np. prototyp działającego systemu, zanalizowany i przetestowany algorytm, dogłębna analiza zjawiska, publikacja naukowa, biblioteka, tutorial itd.\n",
    "\n",
    "<br/><br/>\n",
    "**Kluczowi interesariusze**  \n",
    "Określ kluczowych interesariuszy Twojego projektu. Interesariuszami są wszystkie osoby, których dotyczy projekt lub jego rezultat - np. klienci końcowi, potencjalni sponsorzy, manager projektu, zespół itd. [Więcej informacji](https://pmstudycircle.com/identify-stakeholders-project-management/)\n",
    "| Typ interesariusza | Nazwa |\n",
    "| --- | --- |\n",
    "| ... | ... |\n",
    "| ... | ... |\n",
    "| ... | ... |\n",
    "\n",
    "<br/><br/>\n",
    "**Dane**  \n",
    "Określ, skąd pozyskasz dane do realizacji projektu. Zastanów się nad dostępnością i adekwatnością źródeł dla przedstawionego problemu - czy odzwierciedlają one realistyczny rozkład i typ danych? Opisz, w jaki sposób upewnisz się, że dane są dostępne i jak je pozyskasz.\n",
    "\n",
    "<br/><br/>\n",
    "**Plan prac**  \n",
    "Zaplanuj wstępnie postęp prac. Użyj metod planowania projektów (np. [Work Breakdown Structure](https://www.workbreakdownstructure.com/)):\n",
    "* zidentyfikuj kluczowe fazy/etapy projektu (np. \"Faza 1: Pobranie danych\", \"Faza 2: Obróbka danych\", \"Faza 3: Tworzenie modelu\", \"Faza 4: Analiza i wizualizacja efektów\"...) \n",
    "* dla każdej z faz, zdefiniuj zadania konieczne do realizacji (np. \"Zadanie 1.1: Research dot. źródeł danych\", \"Zadanie 1.2: Uzyskanie dostępu do API\"...)\n",
    "* rozpisz w/w elementy w formie diagramu hierarchicznego\n",
    "\n",
    "<br/><br/>\n",
    "**Kluczowe wskaźniki efektywności (KPI)**  \n",
    "Bazując na określonych wcześniej pytaniach i tle projektu, określ jakie będą kluczowe wskaźniki efektywności (ang. _KPI - key performance indicators_, [więcej informacji](https://www.klipfolio.com/resources/articles/what-is-a-key-performance-indicator)) dla każdej z faz projektu. Opisz jakiekj metody ewaluacji postępów i końcowego rezultatu może użyć Prowadzący zajęcia. \n",
    "\n",
    "KPI powinny być SMART [Więcej informacji](http://examples.yourdictionary.com/examples-of-measurable-goals-and-objectives.html):\n",
    "* _konkretne_ (ang. _specific_)\n",
    "* _mierzalne_ (ang. _measurable_)\n",
    "* _osiągalne_ (ang. _achievable_)\n",
    "* _realistyczne_ (ang. _relevant_)\n",
    "* _osadzone w czasie_ (ang. _time-bound_)\n",
    "\n",
    "\n",
    "Dla każdego KPI zadeklaruj termin realizacji i ewaluacji.\n",
    "\n",
    "Przykładowo:\n",
    "* (2021.10.01) Faza A: baza danych zawierająca co najmniej 10k wpisów, po min. 100 dla każdego z min. 100 użytkowników Twittera\n",
    "* (2021.10.01) Faza B: dashboard MLFlow pokazujacy przebieg uczenia modelu\n",
    "* (2021.10.01) Faza C: osiągnięcie przez model poziomu F1=0.9 \n",
    "* (2021.10.01) Faza D: wykres porównujący jakość uczenia modelu przy użyciu dwóch klasycznych i głębokich metod wektoryzacji\n",
    "\n",
    "*WAŻNE*\n",
    "Zdefiniuj co najmniej jeden KPI dotyczący stworzenia lub zgromadzenia zbioru danych z terminem realizacji na pierwsze zajęcia ewaluacyjne.\n",
    "\n",
    "\n",
    "<br/><br/>\n",
    "**Powiązane prace**  \n",
    "Podaj, skąd będziesz czerpać wiedzę. Bazując zarówno na literaturze naukowej, jak i kodzie open source, przedstaw:\n",
    "* powiązane (podobne) projekty/prace naukowe \n",
    "* biblioteki i artykuły opisujące używane metody\n",
    "* informacje nt. wymaganych komponentów uźywanych w projekcie"
   ]
  },
  {
   "cell_type": "code",
   "execution_count": null,
   "id": "2c8e99f7",
   "metadata": {},
   "outputs": [],
   "source": []
  }
 ],
 "metadata": {
  "kernelspec": {
   "display_name": "Python 3",
   "language": "python",
   "name": "python3"
  },
  "language_info": {
   "codemirror_mode": {
    "name": "ipython",
    "version": 3
   },
   "file_extension": ".py",
   "mimetype": "text/x-python",
   "name": "python",
   "nbconvert_exporter": "python",
   "pygments_lexer": "ipython3",
   "version": "3.6.5"
  }
 },
 "nbformat": 4,
 "nbformat_minor": 5
}
