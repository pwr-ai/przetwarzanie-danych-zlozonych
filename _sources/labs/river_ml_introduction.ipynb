{
 "cells": [
  {
   "cell_type": "markdown",
   "id": "9f16941b",
   "metadata": {},
   "source": [
    "# Wprowadzenie do biblioteki River"
   ]
  },
  {
   "cell_type": "markdown",
   "id": "3541b1ac",
   "metadata": {},
   "source": [
    "[River](https://github.com/online-ml/river) jest obecnie kluczową biblioteką z dziedziny online machine learning. Jest wynikiem połączenia dwóch bibliotek [creme](https://github.com/MaxHalford/creme) i [scikit-multiflow](https://github.com/scikit-multiflow/scikit-multiflow). Jest głównie napisana w języku Python, przy czym intensywne obliczeniowo operacje przeniesiono do języka Rust.\n",
    "\n",
    "Jej główna funkcjonalność obejmuje m.in.:\n",
    "- Modele liniowe i Klasyczne modele maszynowego uczenia \n",
    "- Wykrywanie anomalii czy  koncept dryftu\n",
    "- Systemy rekomendycjne\n",
    "- Prognozowanie na podstawie szeregów czasowych\n",
    "- Uczenie niezbalansowanych danych\n",
    "- Klasteryzacja\n",
    "- Metryki i statystyki dedykowane do Online Machine Learningu\n",
    "\n",
    "Strona główna jest dostępna pod adresem: [[LINK]](https://riverml.xyz/0.14.0/)\n",
    "Tutoriale [[LINK]](https://riverml.xyz/0.14.0/recipes/reading-data/), Przykłady [[LINK]](https://riverml.xyz/0.14.0/examples/batch-to-online/), Dokumentacja [[LINK]](https://riverml.xyz/0.14.0/api/overview/)\n",
    "\n",
    "## Wczytywanie zbiorów\n",
    "\n",
    "### Loadery biblioteki river\n",
    "\n",
    "Przedstawienie formatów danych wspierających przez bibliotekę river przedstawiono w poniższej tabeli:\n",
    "\n",
    "| Format danych | Loader\n",
    "| --- | --- |\n",
    "| arff | [stream.iter_arff](https://riverml.xyz/0.14.0/api/stream/iter-arff/) |\n",
    "| numpy array | [stream.iter_array](https://riverml.xyz/0.14.0/api/stream/iter-array/)|\n",
    "| csv | [stream.iter_csv](https://riverml.xyz/0.14.0/api/stream/iter-csv/) |\n",
    "| LIBSVM | [stream.iter_libsvm](https://riverml.xyz/0.14.0/api/stream/iter-libsvm/) |\n",
    "| pandas DataFrame | [stream.iter_pandas](https://riverml.xyz/0.14.0/api/stream/iter-pandas/) |\n",
    "| sklearn dataset | [stream.iter_sklearn_dataset](https://riverml.xyz/0.14.0/api/stream/iter-sklearn-dataset/) |\n",
    "| sql | [stream.iter_sql](https://riverml.xyz/0.14.0/api/stream/iter-sql/) |\n",
    "| vaex DataFrame | [stream.iter_vaex](https://riverml.xyz/0.14.0/api/stream/iter-vaex/)\n",
    "\n",
    "### Zbiory danych w bibliotece river\n",
    "\n",
    "River udostępnia pakiet zbiorów danych wraz z odpowiednimi loaderami. \n",
    "Pełną listę zbiorów można przejrzeć na stronie biblioteki [[LINK]](https://riverml.xyz/0.13.0/api/datasets/AirlinePassengers/)\n"
   ]
  },
  {
   "cell_type": "markdown",
   "id": "a75fadee",
   "metadata": {},
   "source": [
    "### Wczytywanie zbioru MovieLens100K"
   ]
  },
  {
   "cell_type": "code",
   "execution_count": 9,
   "id": "fa401468",
   "metadata": {},
   "outputs": [
    {
     "data": {
      "text/plain": [
       "MovieLens 100K dataset.\n",
       "\n",
       "MovieLens datasets were collected by the GroupLens Research Project at the University of\n",
       "Minnesota. This dataset consists of 100,000 ratings (1-5) from 943 users on 1682 movies. Each\n",
       "user has rated at least 20 movies. User and movie information are provided. The data was\n",
       "collected through the MovieLens web site (movielens.umn.edu) during the seven-month period from\n",
       "September 19th, 1997 through April 22nd, 1998.\n",
       "\n",
       "      Name  MovieLens100K                                            \n",
       "      Task  Regression                                               \n",
       "   Samples  100,000                                                  \n",
       "  Features  10                                                       \n",
       "    Sparse  False                                                    \n",
       "      Path  /Users/kamiltagowski/river_data/MovieLens100K/ml_100k.csv\n",
       "       URL  https://maxhalford.github.io/files/datasets/ml_100k.zip  \n",
       "      Size  10.55 MB                                                 \n",
       "Downloaded  True                                                     \n",
       "\n",
       "Parameters\n",
       "----------\n",
       "    unpack_user_and_item\n",
       "        Whether or not the user and item should be extracted from the context and included as extra\n",
       "        keyword arguments."
      ]
     },
     "execution_count": 9,
     "metadata": {},
     "output_type": "execute_result"
    }
   ],
   "source": [
    "from river.datasets import MovieLens100K\n",
    "\n",
    "ds = MovieLens100K()\n",
    "ds_path = ds.path\n",
    "ds"
   ]
  },
  {
   "cell_type": "markdown",
   "id": "47da300e",
   "metadata": {},
   "source": [
    "### Dostęp do elementów w zbiorze\n"
   ]
  },
  {
   "cell_type": "code",
   "execution_count": 10,
   "id": "996e58d4",
   "metadata": {},
   "outputs": [
    {
     "data": {
      "text/plain": [
       "({'user': '259',\n",
       "  'item': '255',\n",
       "  'timestamp': 874731910000000000,\n",
       "  'title': \"My Best Friend's Wedding (1997)\",\n",
       "  'release_date': 866764800000000000,\n",
       "  'genres': 'comedy, romance',\n",
       "  'age': 21.0,\n",
       "  'gender': 'M',\n",
       "  'occupation': 'student',\n",
       "  'zip_code': '48823'},\n",
       " 4.0)"
      ]
     },
     "execution_count": 10,
     "metadata": {},
     "output_type": "execute_result"
    }
   ],
   "source": [
    "next(iter(ds))"
   ]
  },
  {
   "cell_type": "markdown",
   "id": "04783683",
   "metadata": {},
   "source": [
    "### Pętla "
   ]
  },
  {
   "cell_type": "code",
   "execution_count": 11,
   "id": "37095e5b",
   "metadata": {},
   "outputs": [
    {
     "data": {
      "text/plain": [
       "{'user': '259',\n",
       " 'item': '255',\n",
       " 'timestamp': 874731910000000000,\n",
       " 'title': \"My Best Friend's Wedding (1997)\",\n",
       " 'release_date': 866764800000000000,\n",
       " 'genres': 'comedy, romance',\n",
       " 'age': 21.0,\n",
       " 'gender': 'M',\n",
       " 'occupation': 'student',\n",
       " 'zip_code': '48823'}"
      ]
     },
     "metadata": {},
     "output_type": "display_data"
    },
    {
     "data": {
      "text/plain": [
       "4.0"
      ]
     },
     "metadata": {},
     "output_type": "display_data"
    }
   ],
   "source": [
    "# Import w celu czytelniejszego wyświetlania słowników\n",
    "from IPython.display import display_pretty\n",
    "\n",
    "for x, y in ds:\n",
    "    display_pretty(x, y)\n",
    "    break"
   ]
  },
  {
   "cell_type": "markdown",
   "id": "c0ced2f8",
   "metadata": {},
   "source": [
    "### Pobieranie kilku elementów ze zbioru\n",
    "Dla tej paczki zbiorów danych przygotowano także metodę take, która umożliwia pobranie kilku elementów ze strumienia"
   ]
  },
  {
   "cell_type": "code",
   "execution_count": 12,
   "id": "e0b6b283",
   "metadata": {},
   "outputs": [
    {
     "data": {
      "text/plain": [
       "{'user': '259',\n",
       " 'item': '255',\n",
       " 'timestamp': 874731910000000000,\n",
       " 'title': \"My Best Friend's Wedding (1997)\",\n",
       " 'release_date': 866764800000000000,\n",
       " 'genres': 'comedy, romance',\n",
       " 'age': 21.0,\n",
       " 'gender': 'M',\n",
       " 'occupation': 'student',\n",
       " 'zip_code': '48823'}"
      ]
     },
     "metadata": {},
     "output_type": "display_data"
    },
    {
     "data": {
      "text/plain": [
       "4.0"
      ]
     },
     "metadata": {},
     "output_type": "display_data"
    },
    {
     "data": {
      "text/plain": [
       "{'user': '259',\n",
       " 'item': '286',\n",
       " 'timestamp': 874731927000000000,\n",
       " 'title': 'English Patient, The (1996)',\n",
       " 'release_date': 848016000000000000,\n",
       " 'genres': 'drama, romance, war',\n",
       " 'age': 21.0,\n",
       " 'gender': 'M',\n",
       " 'occupation': 'student',\n",
       " 'zip_code': '48823'}"
      ]
     },
     "metadata": {},
     "output_type": "display_data"
    },
    {
     "data": {
      "text/plain": [
       "4.0"
      ]
     },
     "metadata": {},
     "output_type": "display_data"
    }
   ],
   "source": [
    "for x, y in ds.take(k=2):\n",
    "    display_pretty(x, y)"
   ]
  },
  {
   "cell_type": "markdown",
   "id": "6c454fc2",
   "metadata": {},
   "source": [
    "### Wczytanie zbioru za pomocą dostępnych loaderów"
   ]
  },
  {
   "cell_type": "code",
   "execution_count": 13,
   "id": "29b91e52",
   "metadata": {},
   "outputs": [
    {
     "data": {
      "text/plain": [
       "{'user': '259',\n",
       " 'item': '255',\n",
       " 'rating': '4.0',\n",
       " 'timestamp': '874731910000000000',\n",
       " 'title': \"My Best Friend's Wedding (1997)\",\n",
       " 'release_date': '866764800000000000',\n",
       " 'genres': 'comedy, romance',\n",
       " 'age': '21',\n",
       " 'gender': 'M',\n",
       " 'occupation': 'student',\n",
       " 'zip_code': '48823'}"
      ]
     },
     "metadata": {},
     "output_type": "display_data"
    },
    {
     "data": {
      "text/plain": [
       "None"
      ]
     },
     "metadata": {},
     "output_type": "display_data"
    }
   ],
   "source": [
    "from river.stream import iter_csv\n",
    "\n",
    "ds = iter_csv(ds_path, delimiter=\"\\t\")\n",
    "\n",
    "for x, y in ds:\n",
    "    display_pretty(x, y)\n",
    "    break"
   ]
  },
  {
   "cell_type": "markdown",
   "id": "af7f4126",
   "metadata": {},
   "source": [
    "Jak widzimy, powyżej zbiór wczytany jest w postaci stringów, a zmienna y jest nieznana. \n",
    "Aby to rozwiązać potrzebujemy zdefiniować dane."
   ]
  },
  {
   "cell_type": "code",
   "execution_count": 14,
   "id": "7e55c6a0",
   "metadata": {},
   "outputs": [
    {
     "data": {
      "text/plain": [
       "{'user': '259',\n",
       " 'item': '255',\n",
       " 'timestamp': 874731910000000000,\n",
       " 'title': \"My Best Friend's Wedding (1997)\",\n",
       " 'release_date': 866764800000000000,\n",
       " 'genres': 'comedy, romance',\n",
       " 'age': 21,\n",
       " 'gender': 'M',\n",
       " 'occupation': 'student',\n",
       " 'zip_code': '48823'}"
      ]
     },
     "metadata": {},
     "output_type": "display_data"
    },
    {
     "data": {
      "text/plain": [
       "4.0"
      ]
     },
     "metadata": {},
     "output_type": "display_data"
    }
   ],
   "source": [
    "from river.stream import iter_csv\n",
    "\n",
    "ds = iter_csv(\n",
    "    ds_path,\n",
    "    delimiter=\"\\t\",\n",
    "    target=\"rating\",\n",
    "    converters={\n",
    "        \"rating\": float,\n",
    "        \"age\": int,\n",
    "        \"timestamp\": int,\n",
    "        \"release_date\": int,\n",
    "    },\n",
    ")\n",
    "\n",
    "for x, y in ds:\n",
    "    display_pretty(x, y)\n",
    "    break"
   ]
  },
  {
   "cell_type": "markdown",
   "id": "2394450d",
   "metadata": {},
   "source": [
    "### Wczytywanie za pomocą bilioteki pandas"
   ]
  },
  {
   "cell_type": "code",
   "execution_count": 15,
   "id": "a367b3d3",
   "metadata": {
    "scrolled": true
   },
   "outputs": [
    {
     "data": {
      "text/plain": [
       "{'user': 259,\n",
       " 'item': 255,\n",
       " 'timestamp': 874731910000000000,\n",
       " 'title': \"My Best Friend's Wedding (1997)\",\n",
       " 'release_date': 866764800000000000,\n",
       " 'genres': 'comedy, romance',\n",
       " 'age': 21,\n",
       " 'gender': 'M',\n",
       " 'occupation': 'student',\n",
       " 'zip_code': '48823'}"
      ]
     },
     "metadata": {},
     "output_type": "display_data"
    },
    {
     "data": {
      "text/plain": [
       "4.0"
      ]
     },
     "metadata": {},
     "output_type": "display_data"
    }
   ],
   "source": [
    "import pandas as pd\n",
    "from river.stream import iter_pandas\n",
    "\n",
    "df = pd.read_csv(ds_path, sep=\"\\t\")\n",
    "df_y = df.pop(\"rating\")\n",
    "ds = iter_pandas(df, y=df_y)\n",
    "\n",
    "for x, y in ds:\n",
    "    display_pretty(x, y)\n",
    "    break"
   ]
  },
  {
   "cell_type": "markdown",
   "id": "458ad770",
   "metadata": {},
   "source": [
    "## Przetwarzanie zbioru"
   ]
  },
  {
   "cell_type": "markdown",
   "id": "fe16048a",
   "metadata": {},
   "source": [
    "### Rozkład klas - wczytany cały zbiór"
   ]
  },
  {
   "cell_type": "markdown",
   "id": "58a93303",
   "metadata": {},
   "source": [
    "Wyświetlijmy teraz rozkład klas. W pierwszej kolejności zróbmy to naiwnie, poprzez wykorzystanie całego zaczytanego zbioru"
   ]
  },
  {
   "cell_type": "code",
   "execution_count": 16,
   "id": "fec2e51b",
   "metadata": {},
   "outputs": [
    {
     "data": {
      "text/plain": [
       "<AxesSubplot: >"
      ]
     },
     "execution_count": 16,
     "metadata": {},
     "output_type": "execute_result"
    },
    {
     "data": {
      "image/png": "[encoded data removed]",
      "text/plain": [
       "<Figure size 640x480 with 1 Axes>"
      ]
     },
     "metadata": {},
     "output_type": "display_data"
    }
   ],
   "source": [
    "from collections import Counter\n",
    "\n",
    "import seaborn as sns\n",
    "\n",
    "counter = Counter(df_y.values)\n",
    "sns.barplot(y=list(counter.values()), x=list(counter.keys()), errorbar=None)"
   ]
  },
  {
   "cell_type": "markdown",
   "id": "c606fe97",
   "metadata": {},
   "source": [
    "### Rozkład klas - podejście strumieniowe"
   ]
  },
  {
   "cell_type": "code",
   "execution_count": 17,
   "id": "50bb1ca3",
   "metadata": {},
   "outputs": [
    {
     "data": {
      "text/plain": [
       "<AxesSubplot: >"
      ]
     },
     "execution_count": 17,
     "metadata": {},
     "output_type": "execute_result"
    },
    {
     "data": {
      "image/png": "[encoded data removed]",
      "text/plain": [
       "<Figure size 640x480 with 1 Axes>"
      ]
     },
     "metadata": {},
     "output_type": "display_data"
    }
   ],
   "source": [
    "from river.sketch import Histogram\n",
    "\n",
    "hist = Histogram(max_bins=5)\n",
    "\n",
    "for x, y in ds:\n",
    "    hist = hist.update(y)\n",
    "    \n",
    "sns.barplot(y=[b.count for b in hist], x=[b.left for b in hist], errorbar=None)"
   ]
  },
  {
   "cell_type": "markdown",
   "id": "ae7d63e0",
   "metadata": {},
   "source": [
    "### Rozkład klas - podejście strumieniowe przybliżone "
   ]
  },
  {
   "cell_type": "code",
   "execution_count": 18,
   "id": "e3e6b1e8",
   "metadata": {},
   "outputs": [],
   "source": [
    "from river.sketch import Counter\n",
    "\n",
    "cms = Counter(seed=441)\n",
    "ds = iter_pandas(df, y=df_y)\n",
    "values = set()\n",
    "\n",
    "for x, y in ds:\n",
    "    cms = cms.update(int(y))\n",
    "    values.add(int(y))"
   ]
  },
  {
   "cell_type": "markdown",
   "id": "ee5ea12c",
   "metadata": {},
   "source": [
    "#### Porównanie wartości"
   ]
  },
  {
   "cell_type": "code",
   "execution_count": 19,
   "id": "6b15dca0",
   "metadata": {},
   "outputs": [
    {
     "name": "stdout",
     "output_type": "stream",
     "text": [
      "Rating 1 hist_counter 6110 approx_count 6110 error 0\n",
      "Rating 2 hist_counter 11370 approx_count 11370 error 0\n",
      "Rating 3 hist_counter 27145 approx_count 27145 error 0\n",
      "Rating 4 hist_counter 34173 approx_count 34174 error 1\n",
      "Rating 5 hist_counter 21201 approx_count 21201 error 0\n"
     ]
    }
   ],
   "source": [
    "for val_id, value in enumerate(values):\n",
    "    print(\n",
    "        \"Rating\",\n",
    "        value,\n",
    "        \"hist_counter\",\n",
    "        hist[val_id].count,\n",
    "        \"approx_count\",\n",
    "        cms[value],\n",
    "        \"error\",\n",
    "        abs(hist[val_id].count - cms[value]),\n",
    "    )"
   ]
  },
  {
   "cell_type": "markdown",
   "id": "ced5e981",
   "metadata": {},
   "source": [
    "## Transformacje cech"
   ]
  },
  {
   "cell_type": "markdown",
   "id": "98740195",
   "metadata": {},
   "source": [
    "Zacznijmy od transformacji cech, w naszym zbiorze w dalszym ciągu mamy nieprzetworzone timestampy przetwórzmy ja do formatu `datetime`"
   ]
  },
  {
   "cell_type": "code",
   "execution_count": 20,
   "id": "5afe2d33",
   "metadata": {},
   "outputs": [
    {
     "data": {
      "text/plain": [
       "{'user': 259,\n",
       " 'item': 255,\n",
       " 'timestamp': datetime.datetime(1997, 9, 20, 7, 5, 10),\n",
       " 'title': \"My Best Friend's Wedding (1997)\",\n",
       " 'release_date': datetime.datetime(1997, 6, 20, 2, 0),\n",
       " 'genres': 'comedy, romance',\n",
       " 'age': 21,\n",
       " 'gender': 'M',\n",
       " 'occupation': 'student',\n",
       " 'zip_code': '48823'}"
      ]
     },
     "metadata": {},
     "output_type": "display_data"
    }
   ],
   "source": [
    "import datetime\n",
    "\n",
    "ds = iter_pandas(df, y=df_y)\n",
    "\n",
    "for x, y in ds:\n",
    "    for date_column in (\"timestamp\", \"release_date\"):\n",
    "        x[date_column] = datetime.datetime.fromtimestamp(x[date_column] / 1e9)\n",
    "\n",
    "    display_pretty(x)\n",
    "    break"
   ]
  },
  {
   "cell_type": "markdown",
   "id": "9efc2db8",
   "metadata": {},
   "source": [
    "Dodajmy teraz przetwarzanie tytułów za pomocą algorytmu `LDA`. Do tego celu wykorzystamy klase [`LDA`](https://riverml.xyz/0.14.0/api/preprocessing/LDA/)"
   ]
  },
  {
   "cell_type": "code",
   "execution_count": 21,
   "id": "6a4b0779",
   "metadata": {},
   "outputs": [
    {
     "data": {
      "text/plain": [
       "{0: 0.5,\n",
       " 1: 1.5,\n",
       " 2: 0.5,\n",
       " 3: 0.5,\n",
       " 4: 1.5,\n",
       " 5: 0.5,\n",
       " 6: 0.5,\n",
       " 7: 1.5,\n",
       " 8: 0.5,\n",
       " 9: 1.5}"
      ]
     },
     "metadata": {},
     "output_type": "display_data"
    }
   ],
   "source": [
    "from river.feature_extraction import BagOfWords\n",
    "from river.preprocessing import LDA\n",
    "\n",
    "bow = BagOfWords(on=\"title\")\n",
    "lda = LDA(seed=441)\n",
    "\n",
    "for x, y in ds:\n",
    "    bow_title = bow.learn_one(x).transform_one(x)\n",
    "    display_pretty(lda.learn_one(bow_title).transform_one(bow_title))\n",
    "    break"
   ]
  },
  {
   "cell_type": "markdown",
   "id": "be28093a",
   "metadata": {},
   "source": [
    "Złączmy teraz obie funkcje do jednego kodu:\n"
   ]
  },
  {
   "cell_type": "code",
   "execution_count": 22,
   "id": "68d4dee4",
   "metadata": {},
   "outputs": [
    {
     "data": {
      "text/plain": [
       "{'user': 259,\n",
       " 'item': 298,\n",
       " 'timestamp': datetime.datetime(1997, 9, 20, 7, 5, 54),\n",
       " 'title': 'Face/Off (1997)',\n",
       " 'release_date': datetime.datetime(1997, 6, 27, 2, 0),\n",
       " 'genres': 'action, sci_fi, thriller',\n",
       " 'age': 21,\n",
       " 'gender': 'M',\n",
       " 'occupation': 'student',\n",
       " 'zip_code': '48823',\n",
       " 'title_lda': {0: 0.5,\n",
       "  1: 0.5,\n",
       "  2: 0.5,\n",
       "  3: 1.5,\n",
       "  4: 0.5,\n",
       "  5: 0.5,\n",
       "  6: 0.5,\n",
       "  7: 0.5,\n",
       "  8: 2.5,\n",
       "  9: 0.5}}"
      ]
     },
     "metadata": {},
     "output_type": "display_data"
    }
   ],
   "source": [
    "for x, y in ds:\n",
    "    for date_column in (\"timestamp\", \"release_date\"):\n",
    "        x[date_column] = datetime.datetime.fromtimestamp(x[date_column] / 1e9)\n",
    "\n",
    "        bow_title = bow.learn_one(x).transform_one(x)\n",
    "        x[\"title_lda\"] = lda.learn_one(bow_title).transform_one(bow_title)\n",
    "\n",
    "    display_pretty(x)\n",
    "    break"
   ]
  },
  {
   "cell_type": "markdown",
   "id": "dd1c9dc6",
   "metadata": {},
   "source": [
    "Zamiast ręcznie pisać cały kod kolejnych transformacji możemy je złączyć w jedną za pomocą klasy [`TransformerUnion`](https://riverml.xyz/0.14.0/api/compose/TransformerUnion/). W tym calu musimy jednak mieć naszą metodę transformującą dane za pomocą metody [`FuncTransformer`](https://riverml.xyz/0.14.0/api/compose/FuncTransformer/). Napiszmy ją teraz"
   ]
  },
  {
   "cell_type": "code",
   "execution_count": 23,
   "id": "4b9d34bb",
   "metadata": {},
   "outputs": [
    {
     "data": {
      "text/plain": [
       "{'user': 259,\n",
       " 'item': 185,\n",
       " 'timestamp': 874731981000000000,\n",
       " 'title': 'Psycho (1960)',\n",
       " 'release_date': -315619200000000000,\n",
       " 'genres': 'horror, romance, thriller',\n",
       " 'age': 21,\n",
       " 'gender': 'M',\n",
       " 'occupation': 'student',\n",
       " 'zip_code': '48823',\n",
       " 'timestamp_date': datetime.datetime(1997, 9, 20, 7, 6, 21)}"
      ]
     },
     "metadata": {},
     "output_type": "display_data"
    }
   ],
   "source": [
    "from typing import Dict, Any\n",
    "\n",
    "from river.compose import FuncTransformer\n",
    "\n",
    "\n",
    "class TimestamptoDateConverter:\n",
    "    def __init__(self, col_name: str):\n",
    "        self.col_name = col_name\n",
    "\n",
    "    def __call__(self, x: Dict[str, Any]) -> Dict[str, datetime.datetime]:\n",
    "        # Do not assume incorrectly that something is a date in timestamp format\n",
    "        assert isinstance(x[self.col_name], int)\n",
    "        return {\n",
    "            f\"{self.col_name}_date\": datetime.datetime.fromtimestamp(\n",
    "                x[self.col_name] / 1e9\n",
    "            )\n",
    "        }\n",
    "\n",
    "\n",
    "date_transform = FuncTransformer(TimestamptoDateConverter(col_name=\"timestamp\"))\n",
    "\n",
    "for x, y in ds:\n",
    "    x.update(date_transform.transform_one(x))\n",
    "\n",
    "    display_pretty(x)\n",
    "    break"
   ]
  },
  {
   "cell_type": "markdown",
   "id": "5506766b",
   "metadata": {},
   "source": [
    "Teraz połączmy wszystko w jedną aggregację\n"
   ]
  },
  {
   "cell_type": "code",
   "execution_count": 27,
   "id": "18ee58e3",
   "metadata": {},
   "outputs": [
    {
     "data": {
      "text/plain": [
       "{'user': 259,\n",
       " 'item': 108,\n",
       " 'timestamp': 874732082000000000,\n",
       " 'title': 'Kids in the Hall: Brain Candy (1996)',\n",
       " 'release_date': 829267200000000000,\n",
       " 'genres': 'comedy',\n",
       " 'age': 21,\n",
       " 'gender': 'M',\n",
       " 'occupation': 'student',\n",
       " 'zip_code': '48823',\n",
       " 'release_date_date': datetime.datetime(1996, 4, 12, 2, 0),\n",
       " 'timestamp_date': datetime.datetime(1997, 9, 20, 7, 8, 2),\n",
       " 'lda': {0: 0.5,\n",
       "  1: 1.5,\n",
       "  2: 2.5,\n",
       "  3: 0.5,\n",
       "  4: 1.5,\n",
       "  5: 1.5,\n",
       "  6: 2.5,\n",
       "  7: 0.5,\n",
       "  8: 0.5,\n",
       "  9: 0.5}}"
      ]
     },
     "metadata": {},
     "output_type": "display_data"
    }
   ],
   "source": [
    "from river.compose import Pipeline, TransformerUnion\n",
    "\n",
    "transforms = TransformerUnion(\n",
    "    FuncTransformer(TimestamptoDateConverter(col_name=\"timestamp\")),\n",
    "    FuncTransformer(TimestamptoDateConverter(col_name=\"release_date\")),\n",
    ")\n",
    "\n",
    "lda = Pipeline(BagOfWords(on=\"title\"), LDA(seed=441))\n",
    "\n",
    "for x, y in ds:\n",
    "    x.update(transforms.learn_one(x).transform_one(x))\n",
    "    x[\"lda\"] = lda.learn_one(x).transform_one(x)\n",
    "\n",
    "    display_pretty(x)\n",
    "    break"
   ]
  },
  {
   "cell_type": "markdown",
   "id": "6f3ad310",
   "metadata": {},
   "source": [
    "### Agregacje"
   ]
  },
  {
   "cell_type": "markdown",
   "id": "c3be7e7f",
   "metadata": {},
   "source": [
    "Aggregacje w bibliotece river wykonujemy za pomocą modułu [Agg](https://riverml.xyz/0.14.0/api/feature-extraction/Agg/)"
   ]
  },
  {
   "cell_type": "markdown",
   "id": "9da4a942",
   "metadata": {},
   "source": [
    "### Obliczenie liczby recenzji użytkownika"
   ]
  },
  {
   "cell_type": "code",
   "execution_count": 30,
   "id": "7b0fa3d6",
   "metadata": {},
   "outputs": [
    {
     "data": {
      "text/plain": [
       "{'user': 259, 'y_count_by_user': 1}"
      ]
     },
     "metadata": {},
     "output_type": "display_data"
    },
    {
     "data": {
      "text/plain": [
       "{'user': 259, 'y_count_by_user': 2}"
      ]
     },
     "metadata": {},
     "output_type": "display_data"
    },
    {
     "data": {
      "text/plain": [
       "{'user': 259, 'y_count_by_user': 3}"
      ]
     },
     "metadata": {},
     "output_type": "display_data"
    },
    {
     "data": {
      "text/plain": [
       "{'user': 259, 'y_count_by_user': 4}"
      ]
     },
     "metadata": {},
     "output_type": "display_data"
    },
    {
     "data": {
      "text/plain": [
       "{'user': 259, 'y_count_by_user': 5}"
      ]
     },
     "metadata": {},
     "output_type": "display_data"
    },
    {
     "data": {
      "text/plain": [
       "{'user': 259, 'y_count_by_user': 6}"
      ]
     },
     "metadata": {},
     "output_type": "display_data"
    },
    {
     "data": {
      "text/plain": [
       "{'user': 259, 'y_count_by_user': 7}"
      ]
     },
     "metadata": {},
     "output_type": "display_data"
    },
    {
     "data": {
      "text/plain": [
       "{'user': 259, 'y_count_by_user': 8}"
      ]
     },
     "metadata": {},
     "output_type": "display_data"
    },
    {
     "data": {
      "text/plain": [
       "{'user': 259, 'y_count_by_user': 9}"
      ]
     },
     "metadata": {},
     "output_type": "display_data"
    },
    {
     "data": {
      "text/plain": [
       "{'user': 259, 'y_count_by_user': 10}"
      ]
     },
     "metadata": {},
     "output_type": "display_data"
    },
    {
     "data": {
      "text/plain": [
       "{'user': 259, 'y_count_by_user': 11}"
      ]
     },
     "metadata": {},
     "output_type": "display_data"
    },
    {
     "data": {
      "text/plain": [
       "{'user': 259, 'y_count_by_user': 12}"
      ]
     },
     "metadata": {},
     "output_type": "display_data"
    },
    {
     "data": {
      "text/plain": [
       "{'user': 259, 'y_count_by_user': 13}"
      ]
     },
     "metadata": {},
     "output_type": "display_data"
    },
    {
     "data": {
      "text/plain": [
       "{'user': 259, 'y_count_by_user': 14}"
      ]
     },
     "metadata": {},
     "output_type": "display_data"
    },
    {
     "data": {
      "text/plain": [
       "{'user': 259, 'y_count_by_user': 15}"
      ]
     },
     "metadata": {},
     "output_type": "display_data"
    },
    {
     "data": {
      "text/plain": [
       "{'user': 259, 'y_count_by_user': 16}"
      ]
     },
     "metadata": {},
     "output_type": "display_data"
    },
    {
     "data": {
      "text/plain": [
       "{'user': 851, 'y_count_by_user': 1}"
      ]
     },
     "metadata": {},
     "output_type": "display_data"
    },
    {
     "data": {
      "text/plain": [
       "{'user': 851, 'y_count_by_user': 2}"
      ]
     },
     "metadata": {},
     "output_type": "display_data"
    },
    {
     "data": {
      "text/plain": [
       "{'user': 851, 'y_count_by_user': 3}"
      ]
     },
     "metadata": {},
     "output_type": "display_data"
    },
    {
     "data": {
      "text/plain": [
       "{'user': 851, 'y_count_by_user': 4}"
      ]
     },
     "metadata": {},
     "output_type": "display_data"
    }
   ],
   "source": [
    "from river.feature_extraction import TargetAgg\n",
    "from river.stats import Count\n",
    "\n",
    "ds = iter_pandas(df.iloc[0:20], y=df_y[0:20])\n",
    "\n",
    "agg = TargetAgg(by=[\"user\"], how=Count())\n",
    "for x, y in ds:\n",
    "    display_pretty({\"user\": x[\"user\"], **agg.learn_one(x, y).transform_one(x)})"
   ]
  },
  {
   "cell_type": "markdown",
   "id": "7c9c7b96",
   "metadata": {},
   "source": [
    "### Aggregacje typu Rolling"
   ]
  },
  {
   "cell_type": "markdown",
   "id": "f42cb77e",
   "metadata": {},
   "source": [
    "Średnia ocena recenzja z ostatnich 5"
   ]
  },
  {
   "cell_type": "code",
   "execution_count": 35,
   "id": "e2d8ec86",
   "metadata": {},
   "outputs": [
    {
     "data": {
      "text/plain": [
       "{'user': 259, 'y_mean_by_user': 4.0}"
      ]
     },
     "metadata": {},
     "output_type": "display_data"
    },
    {
     "data": {
      "text/plain": [
       "{'user': 259, 'y_mean_by_user': 4.0}"
      ]
     },
     "metadata": {},
     "output_type": "display_data"
    },
    {
     "data": {
      "text/plain": [
       "{'user': 259, 'y_mean_by_user': 4.0}"
      ]
     },
     "metadata": {},
     "output_type": "display_data"
    },
    {
     "data": {
      "text/plain": [
       "{'user': 259, 'y_mean_by_user': 4.0}"
      ]
     },
     "metadata": {},
     "output_type": "display_data"
    },
    {
     "data": {
      "text/plain": [
       "{'user': 259, 'y_mean_by_user': 4.0}"
      ]
     },
     "metadata": {},
     "output_type": "display_data"
    },
    {
     "data": {
      "text/plain": [
       "{'user': 259, 'y_mean_by_user': 4.0}"
      ]
     },
     "metadata": {},
     "output_type": "display_data"
    },
    {
     "data": {
      "text/plain": [
       "{'user': 259, 'y_mean_by_user': 4.0}"
      ]
     },
     "metadata": {},
     "output_type": "display_data"
    },
    {
     "data": {
      "text/plain": [
       "{'user': 259, 'y_mean_by_user': 3.8}"
      ]
     },
     "metadata": {},
     "output_type": "display_data"
    },
    {
     "data": {
      "text/plain": [
       "{'user': 259, 'y_mean_by_user': 3.8}"
      ]
     },
     "metadata": {},
     "output_type": "display_data"
    },
    {
     "data": {
      "text/plain": [
       "{'user': 259, 'y_mean_by_user': 3.8}"
      ]
     },
     "metadata": {},
     "output_type": "display_data"
    },
    {
     "data": {
      "text/plain": [
       "{'user': 259, 'y_mean_by_user': 3.8}"
      ]
     },
     "metadata": {},
     "output_type": "display_data"
    },
    {
     "data": {
      "text/plain": [
       "{'user': 259, 'y_mean_by_user': 3.6}"
      ]
     },
     "metadata": {},
     "output_type": "display_data"
    },
    {
     "data": {
      "text/plain": [
       "{'user': 259, 'y_mean_by_user': 3.6}"
      ]
     },
     "metadata": {},
     "output_type": "display_data"
    },
    {
     "data": {
      "text/plain": [
       "{'user': 259, 'y_mean_by_user': 3.6}"
      ]
     },
     "metadata": {},
     "output_type": "display_data"
    },
    {
     "data": {
      "text/plain": [
       "{'user': 259, 'y_mean_by_user': 3.8}"
      ]
     },
     "metadata": {},
     "output_type": "display_data"
    },
    {
     "data": {
      "text/plain": [
       "{'user': 259, 'y_mean_by_user': 3.8}"
      ]
     },
     "metadata": {},
     "output_type": "display_data"
    },
    {
     "data": {
      "text/plain": [
       "{'user': 851, 'y_mean_by_user': 2.0}"
      ]
     },
     "metadata": {},
     "output_type": "display_data"
    },
    {
     "data": {
      "text/plain": [
       "{'user': 851, 'y_mean_by_user': 2.5}"
      ]
     },
     "metadata": {},
     "output_type": "display_data"
    },
    {
     "data": {
      "text/plain": [
       "{'user': 851, 'y_mean_by_user': 2.6666666666666665}"
      ]
     },
     "metadata": {},
     "output_type": "display_data"
    },
    {
     "data": {
      "text/plain": [
       "{'user': 851, 'y_mean_by_user': 3.25}"
      ]
     },
     "metadata": {},
     "output_type": "display_data"
    }
   ],
   "source": [
    "from river.utils import Rolling\n",
    "from river.stats import Mean\n",
    "\n",
    "ds = iter_pandas(df.iloc[0:20], y=df_y[0:20])\n",
    "\n",
    "agg = TargetAgg(by=[\"user\"], how=Rolling(Mean(), 5))\n",
    "for x, y in ds:\n",
    "    display_pretty({\"user\": x[\"user\"], **agg.learn_one(x, y).transform_one(x)})"
   ]
  }
 ],
 "metadata": {
  "kernelspec": {
   "display_name": "Python 3 (ipykernel)",
   "language": "python",
   "name": "python3"
  },
  "language_info": {
   "codemirror_mode": {
    "name": "ipython",
    "version": 3
   },
   "file_extension": ".py",
   "mimetype": "text/x-python",
   "name": "python",
   "nbconvert_exporter": "python",
   "pygments_lexer": "ipython3",
   "version": "3.9.6"
  }
 },
 "nbformat": 4,
 "nbformat_minor": 5
}
