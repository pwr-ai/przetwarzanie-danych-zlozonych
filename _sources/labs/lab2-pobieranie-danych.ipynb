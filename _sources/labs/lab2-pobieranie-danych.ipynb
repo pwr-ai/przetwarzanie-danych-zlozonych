{
 "cells": [
  {
   "cell_type": "markdown",
   "id": "6589f542",
   "metadata": {},
   "source": [
    "# Pozyskiwanie danych z mediów społecznościowych "
   ]
  },
  {
   "cell_type": "markdown",
   "id": "80359b91",
   "metadata": {},
   "source": [
    "AI nie istnieje bez danych. Dla przykładów lub nauki możemy użyć gotowych, stworzonych już zbiorów danych - niemniej rozważając jakikowlwiek realny problem, będziemy postawieni przed koniecznością zgromadzenia danych własnoręcznie.\n",
    "\n",
    "Media społecznościowe niechętnie dzielą się swoimi danymi - jest to dla nich jedno z głownych źródeł dochodu ([ciekawy artykuł](https://blog.malwarebytes.com/privacy-2/2020/04/how-social-media-mine-data-sell-personal-information-for-profit/)). Część mediów oferuje interfejs dostępu do swoich danych, najczęściej obwarowany licznymi ograniczeniami. W pozostałych przypadkach pozostaje ręczne scrapowanie danych."
   ]
  },
  {
   "cell_type": "markdown",
   "id": "376c6790",
   "metadata": {},
   "source": [
    "## Dostęp do API\n",
    "\n",
    "Większość dużych platform społecznościowych umożliwia programistom dostęp do danych serwisu poprzez API. \n",
    "\n",
    "Przykładowe linki do dokumentacji API:\n",
    "* [Facebook](https://developers.facebook.com/docs/graph-api/get-started)\n",
    "* [Twitter](https://developer.twitter.com/en/docs/twitter-api/getting-started/about-twitter-api)\n",
    "* [Youtube](https://developers.google.com/youtube/v3/getting-started)\n",
    "* [Reddit](https://www.reddit.com/dev/api/)\n",
    "* [Wykop](https://www.wykop.pl/dla-programistow/apiv2docs/)\n",
    "* [VK](https://vk.com/dev/openapi)\n",
    "\n",
    "### Plusy używania API\n",
    "* pełna legalność rozwiazania\n",
    "* stabilność rozwiazania (przejrzyste zmiany, kompatybilność wsteczna)\n",
    "* przejrzysty podział na endpointy\n",
    "* prosta i czytelna zwrotka (JSON/XML)\n",
    "* istnieją gotowe klienty API do większości serwisów\n",
    "* możliwość zbudowania biznesu wokół medium społecznościowego\n",
    "\n",
    "### Wady używania API\n",
    "* limity ilości danych\n",
    "* limity tempa pobierania danych\n",
    "* limity jakościowe danych\n",
    "* darmowe poziomy dostępu mają często ograniczone możliwości\n",
    "* płatne poziomy dostępu są drogie\n",
    "* często dostęp do API uzyskujemy po weryfikacji naszej aplikacji (co najmniej w FB i Twitter)\n"
   ]
  },
  {
   "cell_type": "markdown",
   "id": "b35bcb31",
   "metadata": {},
   "source": [
    "## Scrapowanie danych\n",
    "\n",
    "W przypadku gdy portal społecznościowy nie udostępnia API lub z jakiegoś powodu nie chcemy/nie możemy z niego skorzystać, pozostaje nam użyć scrapera.\n",
    "\n",
    "Scrapowanie stron polega na ściganiu ich zawartości z poziomu skryptu. Scrapujac, niejako \"udajemy\" normalnego użytkownika i jego request z przegladarki\n",
    "\n",
    "### Legalność scrapowania danych\n",
    "Scrapowanie danych, rozumiane jako dostęp do zasobów portalu na takich samych zasadach jak użytkownik przez przegladarkę, najprawdopodobniej nie jest działaniem nielegalnym - jest to nieuregulowane w polskim prawodawstwie. Należy jednocześnie przestrzegać przepisów prawa autorskiego i RODO oraz dbać o niepogorszenie warunków działania strony (unikać [DoS](https://pl.wikipedia.org/wiki/Blokada_us%C5%82ug))\n",
    "\n",
    "Natomiast wiele portali społecznościowych ma w swoich regulaminach lub warunkach użytkowania (ang. _ToS - Terms of Service_) zapis, w którym zabrania scrapowania, w szczególności w celach komercyjnych. \n",
    "\n",
    "### Plusy scrapowania\n",
    "* potencjalnie nieograniczone możliwości \n",
    "* darmowy dostęp\n",
    "* istnieje wiele narzędzi wspomagających scrapowanie\n",
    "\n",
    "### Wady scrapowania\n",
    "* zazwyczaj łamanie ToS\n",
    "* niestabilność rozwiązania\n",
    "* konieczność ręcznej analizy strony i \"rozgryzienia\" jej struktury\n",
    "* konieczność \"walki\" z portalem\n",
    "* koszty poniesione na infrastrukturę i dodatkowe usługi \n",
    "\n",
    "### Sposoby w jaki media społecznościowe zabezpieczaja się przed scrapowaniem\n",
    "* częsta zmiana wygladu strony\n",
    "* dynamiczne ładowanie danych\n",
    "* autentykacja requestów\n",
    "* limit requestów per IP\n",
    "* badanie anomalii i blokowanie podejrzanych"
   ]
  },
  {
   "cell_type": "markdown",
   "id": "6c2266ff",
   "metadata": {},
   "source": [
    "## Biblioteki Pythona wspomagajace scrapowanie\n",
    "\n",
    "Scrapowanie można realizować przez natywne funkcjonalności Pythona (np. wyrażenia regularne), ale istnieje szereg bibliotek ułatwiajacych to zadanie:\n",
    "\n",
    "### [Requests](https://docs.python-requests.org/en/latest/)\n",
    "Najprostsza biblioteka służaca do wykonywania zapytań i pobierania zawartości stron\n",
    "\n",
    "### [BeautifulSoup](https://beautiful-soup-4.readthedocs.io/en/latest/)\n",
    "Podstawowy (lecz wystarczajacy) parser HTMLa - pozwala łatwo przeszukiwać zawartośc stron po ich ściagnięciu\n",
    "\n",
    "### [Selenium](https://selenium-python.readthedocs.io/)\n",
    "Poprzez emulację przegladarki, pozwala na interakcję ze strona z użyciem JavaScriptu\n",
    "\n",
    "### [Scrapy](https://docs.scrapy.org/en/latest/intro/overview.html)\n",
    "Narzędzie automatyzujace wiele powtarzalnych procesów - paginację, wyszukiwanie danych w HTMLu, zrównoleglenie parsowania, obsługę cookies i requestów. \n",
    "\n",
    "### [Twint](https://github.com/twintproject/twint)\n",
    "Narzędzie do scrapowania danych z Twittera (ostatni commit 2020.12.17)\n",
    "\n",
    "### [stweet](https://github.com/markowanga/stweet)\n",
    "Scraper Twittera, używajacy endpointów AJAX do pobrania danych (ostatni commit 2021.10.13)"
   ]
  },
  {
   "cell_type": "markdown",
   "id": "c590a402",
   "metadata": {},
   "source": [
    "## Dlaczego nie warto opierać biznesu o dostęp do jednego medium społecznościowego? \n",
    "\n",
    "We wrześniu 2019 na łamach amerykańskiej edycji Business Insidera ukazał się [artykuł nt. nielegalnego wykorzystania danych](https://www.businessinsider.com/facebook-review-all-marketing-partners-instagram-data-scraping-2019-8) z portalu Instagram przez szereg firm. Wśród nich wymieniono (niesłusznie) polską firmę monitorujacą Internet [Brand24](https://brand24.pl)\n",
    "\n",
    "Co ciekawe, artykuł stawiał w niekorzystym świetle nawet bardziej samego Facebooka (właściciela Instagramu) niż wymienione firmy. Reakcją Facebooka było natychmiastowe zablokowanie wszystkiego co powiązane z tymi firmami - kont firmowych, kont prywatnych właścicieli, podpiętych kont API, podpiętych aplikacji, wtyczek Messengera itd - zarówno z Facebooka, jak i Instagrama\n",
    "\n",
    "Decyzja Facebooka była natychmiastowa, nieodwołalna i bez podania jakiegokolwiek powodu - wg. ToS maja pełne prawo swobodnie dysponować dostępami do swoich zasobów. \n",
    "\n",
    "Po prawie rocznej prawnej batalii, w przypadku Brand24 Facebook stwierdził, że nie miał podstaw do takiego działania i dostępy/konta zostały przywrócone - jednak kosztowało to firmę utratę 10% klientów, spadek o 40% wartości giełdowej i konieczność znacznej redukcji zatrudnienia. Wiele spośród wymienionych w artykule firm upadło całkowicie. "
   ]
  },
  {
   "cell_type": "code",
   "execution_count": null,
   "id": "2a631fce",
   "metadata": {},
   "outputs": [],
   "source": []
  }
 ],
 "metadata": {
  "kernelspec": {
   "display_name": "Python 3 (ipykernel)",
   "language": "python",
   "name": "python3"
  },
  "language_info": {
   "codemirror_mode": {
    "name": "ipython",
    "version": 3
   },
   "file_extension": ".py",
   "mimetype": "text/x-python",
   "name": "python",
   "nbconvert_exporter": "python",
   "pygments_lexer": "ipython3",
   "version": "3.9.7"
  }
 },
 "nbformat": 4,
 "nbformat_minor": 5
}
