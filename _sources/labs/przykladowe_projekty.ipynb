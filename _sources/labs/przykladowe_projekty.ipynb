{
 "cells": [
  {
   "cell_type": "markdown",
   "id": "ad13d13a",
   "metadata": {},
   "source": [
    "# Przykładowe projekty"
   ]
  },
  {
   "cell_type": "markdown",
   "id": "a54fa275",
   "metadata": {},
   "source": [
    "[Edycja 2018/2019](https://smapwr.github.io/posters/2018_2019/2020/01/19/SMA-POSTERS-2018-2019.html)"
   ]
  },
  {
   "cell_type": "markdown",
   "id": "187c435e",
   "metadata": {},
   "source": [
    "[Edycja 2019/2020](https://smapwr.github.io/posters/2019_2020/2020/01/27/SMA-POSTERS-2019-2020.html)"
   ]
  },
  {
   "cell_type": "markdown",
   "id": "2d64a758",
   "metadata": {},
   "source": [
    "[Edycja 2020/2021](https://smapwr.github.io/posters/2020_2021/2021/02/01/SMA-POSTERS-2020-2021.html)"
   ]
  },
  {
   "cell_type": "code",
   "execution_count": null,
   "id": "04859328",
   "metadata": {},
   "outputs": [],
   "source": []
  }
 ],
 "metadata": {
  "kernelspec": {
   "display_name": "Python 3",
   "language": "python",
   "name": "python3"
  },
  "language_info": {
   "codemirror_mode": {
    "name": "ipython",
    "version": 3
   },
   "file_extension": ".py",
   "mimetype": "text/x-python",
   "name": "python",
   "nbconvert_exporter": "python",
   "pygments_lexer": "ipython3",
   "version": "3.6.5"
  }
 },
 "nbformat": 4,
 "nbformat_minor": 5
}
