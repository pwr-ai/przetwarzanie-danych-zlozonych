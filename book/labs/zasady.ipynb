{
 "cells": [
  {
   "cell_type": "markdown",
   "id": "0cdf3421",
   "metadata": {},
   "source": [
    "# Zasady\n",
    "Zaliczenie przedmiotu polega na realizacji list zadań, dla których podstawowym materiałem pozwalającym zdobyć niezbędną wiedzę jest wykład oraz niniejsze tutoriale.\n",
    "\n",
    "Proponowana gradacja ocen:\n",
    "\n",
    "Procent punktacji od | Procent punktacji do | Ocena\n",
    ":--- | :--- | :---\n",
    "0 | 49 | 2.0\n",
    "50 | 59 | 3.0\n",
    "60 | 69 | 3.5\n",
    "70 | 79 | 4.0\n",
    "80 | 89 | 4.5\n",
    "90 | 100 | 5.0"
   ]
  },
  {
   "cell_type": "markdown",
   "id": "67bc94a9",
   "metadata": {},
   "source": [
    "#"
   ]
  },
  {
   "cell_type": "markdown",
   "id": "5b1290df",
   "metadata": {},
   "source": [
    "# Wskazówki dla prowadzącego\n",
    "Poniżej znajduje się opis, które notebooki odpowiadają laboratoriom z karty przedmiotu.\n",
    "\n",
    "Karta przedmiotu | Notebook\n",
    ":--- | :---\n",
    "Metody wstępnej eksploracji danych | TBD\n",
    "Klasyfikacja kolektywna - algorytmy Loopy Belief Propagation oraz Iterative Classification | Klasyfikacja kolektywna\n",
    "Klasyfikacja z hierarchią klas - ewaluacja różnych metod klasyfikacji | Klasyfikacja hierarchiczna\n",
    "Strumienie - wprowadzenie. Konfiguracja środowiska do pracy ze strumieniami, wstępne przetwarzanie strumieni danych | Wprowadzenie do biblioteki River\n",
    "Wykrywanie dryftu konceptu w strumieniach danych | Wykrywanie dryftu konceptu\n",
    "Ewaluacja jednoklasowych algorytmów klasyfikacji w danych strumieniowych | Ewaluacja jednoklasowych algorytmów klasyfikacji w danych strumieniowych\n",
    "Wsteczna inżynieria struktury sieci ze strumienia danych | Proces Hawkesa\n",
    "Szeregi czasowe I - wstępne przetwarzanie, brakujące wartości, testy stacjonarności, uzyskiwanie stacjonarności w szeregu czasowym | Szeregi czasowe\n",
    "Szeregi czasowe II - analiza komponentów ACF i PACF, modelowanie i predykcja z wykorzystaniem modelu ARMA i/lub ARIMA | Szeregi czasowe\n",
    "Szeregi czasowe III - modelowanie szeregów czasowych z wykorzystaniem sieci neuronowych | Szeregi czasowe - sieci neuronowe\n",
    "Modelowanie sieci temporalnych | Sieci - analiza i modelowanie\n",
    "Predykcja krawędzi w sieciach temporalnych | Sieci - analiza i modelowanie\n"
   ]
  }
 ],
 "metadata": {
  "kernelspec": {
   "display_name": "Python 3 (ipykernel)",
   "language": "python",
   "name": "python3"
  },
  "language_info": {
   "codemirror_mode": {
    "name": "ipython",
    "version": 3
   },
   "file_extension": ".py",
   "mimetype": "text/x-python",
   "name": "python",
   "nbconvert_exporter": "python",
   "pygments_lexer": "ipython3",
   "version": "3.9.13"
  }
 },
 "nbformat": 4,
 "nbformat_minor": 5
}