{
 "cells": [
  {
   "cell_type": "markdown",
   "id": "082d61d3",
   "metadata": {},
   "source": [
    "# Klasyfikacja kolektywna"
   ]
  },
  {
   "cell_type": "markdown",
   "id": "d66be721",
   "metadata": {},
   "source": [
    "## Dane nie-IID"
   ]
  },
  {
   "cell_type": "markdown",
   "id": "998afcc5",
   "metadata": {},
   "source": [
    "Klasyczne metody uczenia maszynowego zakładają spełnienie warunku IID (ang. *Independent and Identically Distributed*), co oznacza, że dane są niezależne i pochodzą z tego samego rozkładu.\n",
    "\n",
    "Systemy złożone często jednak nie spełniają tego warunku. W sieciach społecznych może występować korelacja zachowań między jednostkami, która jest wynikiem działania dwóch mechanizmów:\n",
    "- homofilii - osoby tworzą więzi z osobami podobnymi w pewien sposób do nich samych\n",
    "- wpływu społecznego - więzi społeczne mogą wpływać na charakterystykę jednostki\n",
    "\n",
    "Standardowe metody klasyfikacji mogą sobie nie poradzić z relacyjnym charakterem danych, a także nie wykorzystać jego potencjału. W przypadku pracy z danymi nie-IID możemy jednak wykorzystać metody klasyfikacji kolektywnej, które nie mają ograniczeń klasycznych metod klasyfikacji."
   ]
  },
  {
   "cell_type": "markdown",
   "id": "df3741c3",
   "metadata": {},
   "source": [
    "## Ogólny schemat klasyfikacji kolektywnej"
   ]
  },
  {
   "cell_type": "markdown",
   "id": "05e5f85f",
   "metadata": {},
   "source": [
    "Istnieje wiele algorytmów klasyfikacji kolektywnej, jednak dla nich wszystkich możemy wyróżnić wspólny zestaw kroków uczenia w systemach nie-IID:\n",
    "1. Zbudowanie nieoetykietowanej sieci.\n",
    "2. Obliczenie oceny użyteczności węzłów (*utility score*). Najczęściej używa się miar sieciowych (np. betweenness), które zostały opisane w dalszej części.\n",
    "3. Zbudowanie rankingu węzłów na podstawie oceny użyteczności.\n",
    "4. Wybór najlepszych węzłów i odsłonięcie ich etykiet. W tym momencie otrzymujemy sieć częściowo oetykietowaną.\n",
    "5. Przeprowadzenie wewnątrzsieciowej klasyfikacji w oparciu o wybrany algorytm klasyfikacji kolektywnej.\n",
    "6. Otrzymanie etykiet nieznanych węzłów.\n",
    "\n",
    "![cc](data/collective_classification/cc.png)"
   ]
  },
  {
   "cell_type": "markdown",
   "id": "1a0d683f",
   "metadata": {},
   "source": [
    "## Dwa popularne algorytmy:"
   ]
  },
  {
   "cell_type": "markdown",
   "id": "827ab092",
   "metadata": {},
   "source": [
    "### Iterative Classification Algorithm (ICA) "
   ]
  },
  {
   "cell_type": "markdown",
   "id": "3aa55769",
   "metadata": {},
   "source": [
    "[ICA]((https://www.aaai.org/Papers/Workshops/2000/WS-00-06/WS00-06-007.pdf)) jest algorytmem iteracyjnym, którego działanie możemy opisać w dwóch fazach:\n",
    "1. **Faza bootstrapingu**\n",
    "    - Wytrenuj lokalny klasyfikator na znanych węzłach, które zostały odsłonięte.\n",
    "    - Dokonaj predykcji etykiet nieznanych węzłów w oparciu o wyuczony lokalny klasyfikator.\n",
    "2. **Faza klasyfikacji iteracyjnej** - aż do osiągnięcia warunku stopu\n",
    "    - Wygeneruj porządek dla nieznanych węzłów (inny niż utility score).\n",
    "    - W oparciu o wygenerowany porządek dla każdego nieznanego węzła:\n",
    "        - Oblicz cechy bazujące na sąsiadach\n",
    "        - Dokonaj predykcji etykiety węzła z wykorzystaniem lokalnego klasyfikatora i zaktualizowanych cech\n"
   ]
  },
  {
   "cell_type": "markdown",
   "id": "dab8eafd",
   "metadata": {},
   "source": [
    "### Loopy Belief Propagation (LBP)"
   ]
  },
  {
   "cell_type": "markdown",
   "id": "739ccf50",
   "metadata": {},
   "source": [
    "[LBP](https://arxiv.org/abs/1301.6725), podobnie jak ICA, jest również algorytmem iteracyjnym, jednakże zamiast lokalnego klasyfikatora wykorzystuje przekazywanie wiadomości między węzłami.\n",
    "\n",
    "Główne kroki algorytmu to:\n",
    "1. Przypisanie wszystkim nieznanym węzłom takiej samej wiadomości (np. m = 1).\n",
    "2. Faza message passing aż do osiągnięcia warunku stopu:\n",
    "![lbp](data/collective_classification/lbp.png)\n",
    "![lbp2](data/collective_classification/lbp2.png)\n",
    "3. Obliczenie przekonań węzłów:\n",
    "![lbp3](data/collective_classification/lbp3.png)\n",
    "\n",
    "\n",
    "**Notacja:**\n",
    "- label-label potential $\\psi(Y_i,Y_j)$ - zależność proporcjonalna do prawdopodobieństwa, że węzeł $j$ ma etykietę $Y_j$ wiedząc, że jego sąsiadem jest węzeł $i$ mający etykietę $Y_i$\n",
    "- prior $\\phi(Y_i)$ - przekonanie proporcjonalne do prawdopodobieństwa, że węzeł $i$ należy do klasy $Y_i$\n",
    "- $m_{i \\rightarrow j}(Y_j)$ - wiadomość z węzła $i$ do $j$, że węzeł $j$ należy do klasy $Y_j$\n",
    "- $\\mathcal{L}$ - zbiór wszystkich klas"
   ]
  },
  {
   "cell_type": "markdown",
   "id": "2c7c5396",
   "metadata": {},
   "source": [
    "# Przykład zastosowania algorytmu ICA"
   ]
  },
  {
   "cell_type": "markdown",
   "id": "760cc848",
   "metadata": {},
   "source": [
    "## Zbiór danych"
   ]
  },
  {
   "cell_type": "markdown",
   "id": "0deb5c38",
   "metadata": {},
   "source": [
    "W prezentowanym przykładzie będziemy wykorzystywali zbiór [manufacturing company](https://dataverse.harvard.edu/dataset.xhtml?persistentId=doi:10.7910/DVN/6Z3CGX) zawierający komunikację mailową pracowników pewnej polskiej firmy wytwórczej. \n",
    "\n",
    "W zbiorze dostępne są również informacje o strukturze organizacyjnej firmy, która wygląda w następujący sposób:\n",
    "1. Regularni pracownicy\n",
    "2. Pracownicy pierwszego poziomu zarządzania\n",
    "3. Pracownicy drugiego poziomu zarządzania.\n",
    "\n",
    "Naszym celem będzie pokazanie, w jaki sposób można wykorzystać algorytm ICA do odtworzenia struktury organizacyjnej, mając do dyspozycji tylko sieć zbudowaną na podstawie komunikacji mailowej pracowników oraz częściową wiedzę na temat zajmowanych przez nich stanowisk.\n",
    "\n",
    "Będziemy chcieli rozróżnić 2 klasy: regularnych pracowników oraz kadrę zarządzającą (pierwszy i drugi stopień traktujemy jako jedną klasę)"
   ]
  },
  {
   "cell_type": "markdown",
   "id": "9c5e6d85",
   "metadata": {},
   "source": [
    "Plik `reportsto.csv` zawiera informację na temat tego, który pracownik (`ID`) raportuje któremu pracownikowi (`ReportsToID`)."
   ]
  },
  {
   "cell_type": "code",
   "execution_count": null,
   "id": "d2e50595",
   "metadata": {},
   "outputs": [],
   "source": [
    "if (!require('tidyverse')) install.packages('tidyverse')\n",
    "\n",
    "\n",
    "# Wczytanie danych i usunięcie kont niebędących pracownikami\n",
    "reportsto <- read.csv2(\"data/collective_classification/reportsto.csv\")\n",
    "toRemove <- c(\"former employee account\", \"technical email account - not used by employees\")\n",
    "reportsto <- reportsto %>% filter(!(ReportsToID %in% toRemove))\n",
    "\n",
    "head(reportsto)"
   ]
  },
  {
   "cell_type": "code",
   "execution_count": null,
   "id": "46d1e452",
   "metadata": {},
   "outputs": [],
   "source": [
    "# ID pracowników pierwszego stopnia zarządzania\n",
    "first_management_level <- c(76, 90, 136, 137, 143, 152, 47, 162)\n",
    "\n",
    "# ID pracowników drugiego stopnia zarządzania\n",
    "second_management_level <- c(86, 7, 27, 36, 69, 70, 85, 104, 121, 148, 156, 163)\n",
    "\n",
    "management_level <- c(first_management_level, second_management_level)\n",
    "\n",
    "# Pozostałe ID to regularni pracownicy"
   ]
  },
  {
   "cell_type": "markdown",
   "id": "6758a8bd",
   "metadata": {},
   "source": [
    "Plik `communication.csv` zawiera informację o komunikacji mailowej pracowników."
   ]
  },
  {
   "cell_type": "code",
   "execution_count": null,
   "id": "0cdb8fcd",
   "metadata": {},
   "outputs": [],
   "source": [
    "communication <- read.csv2(\"data/collective_classification/communication.csv\")\n",
    "communication <- communication %>% filter(Sender %in% reportsto$ID & Recipient %in% reportsto$ID)\n",
    "\n",
    "head(communication)"
   ]
  },
  {
   "cell_type": "markdown",
   "id": "5b6cf23f",
   "metadata": {},
   "source": [
    "## Budowa sieci"
   ]
  },
  {
   "cell_type": "markdown",
   "id": "fe048028",
   "metadata": {},
   "source": [
    "Do zbudowania grafu, a następnie do obliczenia miar sieciowych wykorzystamy pakiet `igraph`."
   ]
  },
  {
   "cell_type": "code",
   "execution_count": null,
   "id": "0714ecbc",
   "metadata": {},
   "outputs": [],
   "source": [
    "if (!require('igraph')) install.packages('igraph')\n",
    "\n",
    "# Tworzymy graf skierowany na podstawie historii komunikacji mailowej\n",
    "g <- graph_from_data_frame(communication, directed = TRUE)\n",
    "\n",
    "# Każdej krawędzi przypisujemy wagę 1\n",
    "E(g)$weight <- 1\n",
    "\n",
    "# Upraszczamy graf:\n",
    "#  - usuwamy pętle\n",
    "#  - zastępujemy powtarzające się krawędzie poprzez zsumowanie wag i przypisanie ich do pojedynczej krawędzi\n",
    "g <- simplify(g, remove.loops = TRUE, remove.multiple = TRUE, edge.attr.comb=list(weight=\"sum\"))\n",
    "\n",
    "# Przypisanie hierarchii. Regularni pracownicy są oznaczeni przez cyfrę 1, a kadra zarządzająca przez cyfrę 2\n",
    "g <- set_vertex_attr(g, name = \"true_label\", value = 1)\n",
    "g <- set_vertex_attr(g, name = \"true_label\", value = 2, index = V(g)[V(g)$name %in% management_level])\n",
    "\n",
    "# Wizualizacja sieci\n",
    "g <- set_vertex_attr(g, name = \"color\", value = c(\"pink\", \"skyblue\")[1+(V(g)$true_label==1)])\n",
    "plot(g, layout = layout_with_lgl(g), vertex.label = NA, vertex.size = 5, edge.width = 0.2, edge.arrow.size = 0.2)"
   ]
  },
  {
   "cell_type": "markdown",
   "id": "35e95771",
   "metadata": {},
   "source": [
    "## Obliczenie cech węzłów - miary sieciowe"
   ]
  },
  {
   "cell_type": "markdown",
   "id": "b6ba70bd",
   "metadata": {},
   "source": [
    "Kolejnym krokiem po zbudowaniu sieci jest obliczenie miar opisujących ważność każdego węzła w sieci."
   ]
  },
  {
   "cell_type": "markdown",
   "id": "4ede3315",
   "metadata": {},
   "source": [
    "### Centralność stopnia węzła (ang. *degree centrality*)\n",
    "Najprostszą miarą jest stopień każdego węzła. Ważne węzły będą miały więcej krawędzi łączących je z innymi węzłami. Stopień węzła może być użyty do zdefiniowania miary zwanej centralnością stopnia (ang. *degree centrality*).\n",
    "\n",
    "$$C_{deg}(v) = \\dfrac{d_v}{N-1}$$\n",
    "\n",
    "gdzie $v$ to dany węzeł, $d_v$ to liczba krawędzi danego węzła $v$, $N$ jest całkowitą liczbą węzłów w sieci."
   ]
  },
  {
   "cell_type": "code",
   "execution_count": null,
   "id": "e100ee06",
   "metadata": {},
   "outputs": [],
   "source": [
    "degree_centrality <- degree(g, normalized = TRUE, mode = \"all\")\n",
    "g <- set_vertex_attr(g, name = \"degree\", value = degree_centrality)"
   ]
  },
  {
   "cell_type": "markdown",
   "id": "96fbf493",
   "metadata": {},
   "source": [
    "### Bliskość (ang. *closeness*)\n",
    "Bliskość przypisuje wyższy wynik tym węzłom, które mają mniejszą odległość do wszystkich pozostałych węzłów w sieci. Miarę tę można zdefiniować jako:\n",
    "\n",
    "$$C_c(v) = \\dfrac{n-1}{N-1}\\dfrac{n-1}{\\sum_{u=1}^{n-1}\\sigma_{v,u}}$$\n",
    "\n",
    "gdzie $n$ jest liczbą węzłów, do których można się dostać z węzła $v$, $N$ jest całkowitą liczbą węzłów w sieci, $\\sigma_{v,u}$ jest długością najkrótszej ścieżki między węzłami $v$ i $u$."
   ]
  },
  {
   "cell_type": "code",
   "execution_count": null,
   "id": "5c1a0f58",
   "metadata": {},
   "outputs": [],
   "source": [
    "closeness_centrality <- closeness(g, normalized = TRUE , mode = \"all\")\n",
    "g <- set_vertex_attr(g, name = \"closeness\", value = closeness_centrality)"
   ]
  },
  {
   "cell_type": "markdown",
   "id": "1af80b66",
   "metadata": {},
   "source": [
    "### Pośredniość (ang. *betweenness*)\n",
    "Pośredniość między węzłami jest miarą wykorzystującą najkrótsze ścieżki do obliczenia ważności każdego węzła. Miarę tę można obliczyć według następującego wzoru:\n",
    "\n",
    "$$C_{B}(v) = \\sum_{s,t\\in V}\\dfrac{\\sigma_{s,t}(v)}{\\sigma_{s,t}}$$"
   ]
  },
  {
   "cell_type": "code",
   "execution_count": null,
   "id": "547710b8",
   "metadata": {},
   "outputs": [],
   "source": [
    "betweenness_centrality <- betweenness(g, directed = TRUE, normalized = TRUE)\n",
    "g <- set_vertex_attr(g, name = \"betweenness\", value = betweenness_centrality)"
   ]
  },
  {
   "cell_type": "markdown",
   "id": "bddd2fb4",
   "metadata": {},
   "source": [
    "## Budowanie rankingu"
   ]
  },
  {
   "cell_type": "markdown",
   "id": "97179c77",
   "metadata": {},
   "source": [
    "Jednym z problemów klasyfikacji kolektywnej jest wybór węzłów, które zostaną odkryte, a następnie użyte w procesie klasyfikacji kolektywnej. Głównym celem jest taki nieprzypadkowy wybór węzłów, aby zminimalizować błąd klasyfikacji.\n",
    "\n",
    "W celu skwantyfikowania użyteczności danego węzła możemy użyć różnych miar sieciowych, jakie dostarcza nam obliczeniowa nauka o sieciach. Należy wybrać jedną z wcześniej wspomnianych miar (np. betweenness), obliczyć ją dla każdego węzła, a następnie posegregować węzły rosnąco lub malejąco według wybranej miary.\n",
    "\n",
    "Mając zbudowany ranking odsłaniamy $p\\%$ etykiet najlepszych węzłów ($V^K$). Posłużą one do wytrenowania lokalnego klasyfikatora.\n",
    "\n",
    "Pozostałe węzły traktujemy jako nieznane ($V^{UK}$).\n",
    "\n",
    "Na potrzeby tego przykładu użyjemy miary betweenness jako oceny użyteczności oraz odsłonimy 60% węzłów w sieci."
   ]
  },
  {
   "cell_type": "code",
   "execution_count": null,
   "id": "47354178",
   "metadata": {},
   "outputs": [],
   "source": [
    "betweenness_centrality <- data.frame(name = V(g)$name, value = betweenness_centrality, label=V(g)$true_label, \n",
    "                                     stringsAsFactors = FALSE)\n",
    "\n",
    "node_order <- betweenness_centrality[order(betweenness_centrality$value, decreasing = TRUE),]\n",
    "\n",
    "p <- 0.6\n",
    "\n",
    "known_nodes <- node_order[1:round(p*nrow(node_order)),]\n",
    "unknown_nodes <- node_order %>% filter(!(name %in% known_nodes$name))\n",
    "\n",
    "g <- set_vertex_attr(g, name = \"pred_label\", value = V(g)$true_label)\n",
    "g <- set_vertex_attr(g, name = \"pred_label\", index = V(g)[V(g)$name %in% unknown_nodes$name], value = 0)"
   ]
  },
  {
   "cell_type": "markdown",
   "id": "679100b4",
   "metadata": {},
   "source": [
    "## Trenowanie prostego klasyfikatora lokalnego"
   ]
  },
  {
   "cell_type": "markdown",
   "id": "8fa85a35",
   "metadata": {},
   "source": [
    "Mając już odsłonięte węzły, musimy ich użyć do wytrenowania prostego lokalnego klasyfikatora. W tym celu możemy użyć dobrze znanych modeli takich jak Naive Bayes, SVM, drzewo decyzyjne lub las losowy.\n",
    "\n",
    "Jako cech wejściowych dla algorytmu klasyfikacji użyjemy wcześniej obliczonych miar sieciowych: degree centrality, closeness i betweenness. Jako dodatkowych cech użyjemy informacji na temat tego ilu sąsiadów danego węzła należy do klasy 1 (regularni pracownicy) , a ilu do klasy 2 (pracownicy pierwszego lub drugiego poziomu zarządzania).\n",
    "\n",
    "Poniżej użyliśmy algorytmu lasu losowego z 5-krotną walidacją krzyżową."
   ]
  },
  {
   "cell_type": "code",
   "execution_count": null,
   "id": "416e3167",
   "metadata": {},
   "outputs": [],
   "source": [
    "if (!require('caret')) install.packages('caret')\n",
    "if (!require('MLmetrics')) install.packages('MLmetrics')\n",
    "if (!require('randomForest')) install.packages('randomForest')\n",
    "\n",
    "update_neighbors <- function(g, nodes) {\n",
    "  for (i in 1:nrow(nodes)) {\n",
    "    neighborhood <- neighbors(g, v = nodes[i,]$name, mode = \"all\")\n",
    "    \n",
    "    neighbors_1 <- 0\n",
    "    neighbors_2 <- 0\n",
    "    \n",
    "    for (n in 1:length(neighborhood)) {\n",
    "      label <- vertex_attr(g, index = neighborhood[n])$pred_label\n",
    "\n",
    "      if (label == 1) {\n",
    "        neighbors_1 <- neighbors_1 + 1\n",
    "      } else if (label == 2){\n",
    "        neighbors_2 = neighbors_2 + 1\n",
    "      }\n",
    "    }\n",
    "    \n",
    "    g <- set_vertex_attr(g, name = \"neighbors_1\", index = nodes[i,]$name, value = neighbors_1)\n",
    "    g <- set_vertex_attr(g, name = \"neighbors_2\", index = nodes[i,]$name, value = neighbors_2)\n",
    "  }\n",
    "  return(g)\n",
    "}\n",
    "\n",
    "F1_Macro <- function(data, lev = NULL, model = NULL) {\n",
    "  f1_scores <- sapply(lev, function(l) {\n",
    "    f1_score <- MLmetrics::F1_Score(y_pred = data$pred, y_true = data$obs, positive = l)\n",
    "    if(is.na(f1_score)) {\n",
    "      f1_score <- 0\n",
    "    }\n",
    "    return(f1_score)\n",
    "  })\n",
    "  macro <- sum(f1_scores) / length(lev)\n",
    "  return(c(macro=macro, class=f1_scores))\n",
    "}\n",
    "\n",
    "# Oblicz cechy bazujące na sąsiadach\n",
    "g <- update_neighbors(g, known_nodes)\n",
    "\n",
    "# Trenowanie klasyfikatora\n",
    "attributes <- vertex_attr(g, index = known_nodes$name)\n",
    "trainingData <- data.frame(attributes$betweenness, attributes$closeness, attributes$degree, \n",
    "                       attributes$neighbors_1, attributes$neighbors_2,\n",
    "                       label = as.factor(attributes$true_label))\n",
    "\n",
    "fitControl <- trainControl(method = \"CV\", number = 5, summaryFunction = F1_Macro, search = \"random\")\n",
    "classifier <- train(label ~ ., data = trainingData, method = \"rf\", trControl = fitControl, \n",
    "                    preProcess = c(\"center\", \"scale\"), metric = \"macro\", tuneLength=10)"
   ]
  },
  {
   "cell_type": "markdown",
   "id": "fa52540e",
   "metadata": {},
   "source": [
    "## Bootstrapping\n",
    "W fazie bootstrapingu przypisujemy klasę nieznanym węzłom $V^{UK}$ tylko na podstawie zaobserwowanych węzłów $V^K$. "
   ]
  },
  {
   "cell_type": "code",
   "execution_count": null,
   "id": "3d4a4cd6",
   "metadata": {},
   "outputs": [],
   "source": [
    "# Zaktualizuj informację na temat liczby sąsiadów (należących do V^K)\n",
    "g <- update_neighbors(g, unknown_nodes)\n",
    "\n",
    "# Użyj lokalnego klasyfikatora do przypisania klasy węzłom należącym do V^UK\n",
    "for (n in 1:nrow(unknown_nodes)) {\n",
    "    node <- unknown_nodes[n,]$name\n",
    "    \n",
    "    attributes <- vertex_attr(g, index = node)\n",
    "    \n",
    "    testData <- data.frame(attributes$betweenness, attributes$closeness, attributes$degree, \n",
    "                       attributes$neighbors_1, attributes$neighbors_2)\n",
    "    \n",
    "    predicted_label <- predict(classifier, newdata = testData)\n",
    "    g <- set_vertex_attr(g, name = \"pred_label\", index = node, value = predicted_label)\n",
    "  }"
   ]
  },
  {
   "cell_type": "markdown",
   "id": "07849798",
   "metadata": {},
   "source": [
    "## Iteracyjna klasyfikacja"
   ]
  },
  {
   "cell_type": "markdown",
   "id": "288e0837",
   "metadata": {},
   "source": [
    "W fazie iteracyjnej klasyfikacji przechodzimy po nieznanych węzłach $V^{UK}$ wykonując następujące kroki dla każdego węzła $v$:\n",
    "1. Zaktualizuj informacje o sąsiadach $N_v$.\n",
    "2. Użyj lokalnego klasyfikatora oraz informacji z poprzedniego kroku do predykcji etykiety węzła $v$.\n",
    "3. Czy osiągnięto warunek stopu? TAK - koniec, NIE - wróć do punktu 1.\n",
    "\n",
    "Warunek stopu jest osiągnięty, jeżeli etykiety węzłów ustabilizują się w kolejnych iteracjach lub gdy zostanie wykonana maksymalna liczba iteracji."
   ]
  },
  {
   "cell_type": "code",
   "execution_count": null,
   "id": "1d9b1b53",
   "metadata": {},
   "outputs": [],
   "source": [
    "i <- 1\n",
    "maxIter <- 100\n",
    "changed <- TRUE\n",
    "\n",
    "while (i <= maxIter & changed) {\n",
    "  changed <- FALSE\n",
    "  \n",
    "  unknown_nodes <- unknown_nodes[sample(nrow(unknown_nodes)),]\n",
    "  \n",
    "  for (n in 1:nrow(unknown_nodes)) {\n",
    "    node <- unknown_nodes[n,]$name\n",
    "    \n",
    "    # Zaktualizuj informacje o sąsiadach węzła n na podstawie aktualnie przypisanych etykiet\n",
    "    g <- update_neighbors(g, unknown_nodes[n,])\n",
    "    \n",
    "    attributes <- vertex_attr(g, index = node)\n",
    "    \n",
    "    test <- data.frame(attributes$betweenness, attributes$closeness, attributes$degree, \n",
    "                       attributes$neighbors_1, attributes$neighbors_2)\n",
    "    \n",
    "    # Predykcja nowej etykiety\n",
    "    predicted_label <- predict(classifier, newdata = test)\n",
    "    current_label <- attributes$pred_label\n",
    "    \n",
    "    # Jeżeli nowa etykieta jest różna od obecnej, to przypisujemy ją do węzła\n",
    "    if (predicted_label != current_label) {\n",
    "      g <- set_vertex_attr(g, name = \"pred_label\", index = node, value = predicted_label)\n",
    "      changed <- TRUE\n",
    "    }\n",
    "  }\n",
    "  \n",
    "  i <- i + 1\n",
    "}"
   ]
  },
  {
   "cell_type": "markdown",
   "id": "0a44e263",
   "metadata": {},
   "source": [
    "## Ewaluacja modelu"
   ]
  },
  {
   "cell_type": "markdown",
   "id": "32410871",
   "metadata": {},
   "source": [
    "Do ewaluacji modelu klasyfikacji kolektywnej możemy użyć tych samych miar co w przypadku zwykłych algorytmów klasyfikacji, np.: `accuracy` lub `F1`.\n",
    "\n",
    "W naszym przykładzie użyliśmy miary `F1 macro`, będącą średnią miary F1 dla każdej z klas. Dodatkowo możemy zauważyć, że miara F1 dla klasy 2 (stopień zarządzający) jest niższa, co spowodowane jest niezbalansowaniem klas.\n",
    "\n",
    "W celu polepszenia otrzymanego wyniku należałoby przetestować różne miary sieciowe do oceny użyteczności węzłów oraz zastanowić się, jakie jeszcze cechy węzłów mogą być użyteczne przy określeniu hierarchii organizacyjnej."
   ]
  },
  {
   "cell_type": "code",
   "execution_count": null,
   "id": "801a1d85",
   "metadata": {},
   "outputs": [],
   "source": [
    "true_labels = vertex_attr(g, name=\"true_label\", index = V(g)[V(g)$name %in% unknown_nodes$name])\n",
    "pred_labels = vertex_attr(g, name=\"pred_label\", index = V(g)[V(g)$name %in% unknown_nodes$name])\n",
    "\n",
    "F1_Macro(data.frame(\"pred\"=pred_labels, \"obs\"=true_labels), lev = c(1,2))"
   ]
  },
  {
   "cell_type": "markdown",
   "id": "2a90a3eb",
   "metadata": {},
   "source": [
    "## Rekomendowana literatura"
   ]
  },
  {
   "cell_type": "markdown",
   "id": "07552927",
   "metadata": {},
   "source": [
    "1. [Neville, Jennifer, and David Jensen. \"Iterative classification in relational data.\" Proc. AAAI-2000 workshop on learning statistical models from relational data. 2000.](https://www.aaai.org/Papers/Workshops/2000/WS-00-06/WS00-06-007.pdf)\n",
    "2. [Murphy, Kevin, Yair Weiss, and Michael I. Jordan. \"Loopy belief propagation for approximate inference: An empirical study.\" arXiv preprint arXiv:1301.6725 (2013).](https://arxiv.org/abs/1301.6725)\n",
    "3. [Sen, Prithviraj, et al. \"Collective classification in network data.\" AI magazine 29.3 (2008): 93-93.](https://ojs.aaai.org/index.php/aimagazine/article/view/2157)\n",
    "4. [Kajdanowicz, Tomasz, et al. \"Learning in unlabeled networks–An active learning and inference approach.\" AI Communications 29.1 (2016): 123-148.](https://content.iospress.com/articles/ai-communications/aic686)\n",
    "5. [Stanford CS224W Message Passing and Node Classification](http://snap.stanford.edu/class/cs224w-2020/slides/05-message.pdf)"
   ]
  }
 ],
 "metadata": {
  "kernelspec": {
   "display_name": "R",
   "language": "R",
   "name": "ir"
  },
  "language_info": {
   "codemirror_mode": "r",
   "file_extension": ".r",
   "mimetype": "text/x-r-source",
   "name": "R",
   "pygments_lexer": "r",
   "version": "4.2.2"
  }
 },
 "nbformat": 4,
 "nbformat_minor": 5
}
