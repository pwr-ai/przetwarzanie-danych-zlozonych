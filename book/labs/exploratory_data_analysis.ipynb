{
 "cells": [
  {
   "cell_type": "markdown",
   "id": "861248bf",
   "metadata": {},
   "source": [
    "# Analiza eksploracyjna danych"
   ]
  },
  {
   "cell_type": "markdown",
   "id": "6e5586c9",
   "metadata": {},
   "source": [
    "## Wstęp"
   ]
  },
  {
   "cell_type": "markdown",
   "id": "5ce7da59",
   "metadata": {},
   "source": [
    "Zanim zajmiemy się rozwiązywaniem faktycznego problemu ML-owego, wskazane jest lepsze zrozumienie zbioru danych, który zostanie wykorzystany. Etap ten jest określany analizą eksploracyjną danych (ang. exploratory data analysis, EDA). Jego celem jest odpowiedź na pytanie jakie dane mają charakter kategoryczny, jakie numeryczny, jak wyglądają ich liczności, podstawowe statystyki, rozkłady a także korelacje. Ponadto, warto zwrócić uwagę na brakujące wartości i wartości odstające.\n",
    "\n",
    "Warto pamiętać, że EDA powinno być realizowane w odniesieniu do problemu do rozwiązania, gdyż pozwala ukierunkować nas w kierunku lepszego zrozumienia tych aspektów danych, które wykorzystamy finalnie do rozwiązania problemu. Naturalnie, nic nie stoi na przeszkodzie, aby EDA realizować bez tego celu, jednak wtedy prawdopodobnie efektem EDA byłoby opracowanie ogromnej liczby statystyk i wykresów bez większego ich zrozumienia.\n",
    "\n",
    "Do realizacji EDA dobrze najadą się narzędzia takie jak jupyter, ponieważ pozwalają na bieżąco obserwujemy wynik poleceń a także łatwo możemy wrócić do poprzednich analiz. Warto jednak pamiętać, żeby przed zamknięciem etapu EDA ponownie sobie uruchomić cały notatnik, aby upewnić się, że po drodze nic roboczo nie zostało zmienione. W wielu przypadkach analitycy wyciągają z własnych (szerszych) notebooków EDA wybrane wykresy i analizy do prezentacji i rozmów.\n",
    "\n",
    "W ramach tego tutoriala nauczymy się wykonywać podstawowe kroki związane z EDA."
   ]
  },
  {
   "cell_type": "markdown",
   "id": "55bd3b87",
   "metadata": {},
   "source": [
    "## Narzędzia\n",
    "Niniejszy tutorial zrealizowany jest w języku R. Przed przystąpieniem do instalacji pakietu należy zainstalować [R](https://cran.r-project.org) i [RStudio](https://www.rstudio.com). W kolejnym kroku instalujemy kilka przydatnych pakietów, takich jak `tidyverse` do analizy danych, `ggplot2` do wykresów i `dplyr` do wygodnej manipulacji danymi, a także `corrplot` do wykresów korelacji."
   ]
  },
  {
   "cell_type": "code",
   "execution_count": 1,
   "id": "19a61d15",
   "metadata": {},
   "outputs": [
    {
     "name": "stderr",
     "output_type": "stream",
     "text": [
      "Loading required package: tidyverse\n",
      "\n",
      "── \u001b[1mAttaching packages\u001b[22m ──────────────────────────────────────────────────────────────────────────────────────────────────────────────────────────────────────────────────────────────────────────────────────────────────────────────────────────────────────────────────────────────────────────────────────────────────────────────────────────────────────────── tidyverse 1.3.2 ──\n",
      "\u001b[32m✔\u001b[39m \u001b[34mggplot2\u001b[39m 3.4.0      \u001b[32m✔\u001b[39m \u001b[34mpurrr  \u001b[39m 1.0.1 \n",
      "\u001b[32m✔\u001b[39m \u001b[34mtibble \u001b[39m 3.1.8      \u001b[32m✔\u001b[39m \u001b[34mdplyr  \u001b[39m 1.0.10\n",
      "\u001b[32m✔\u001b[39m \u001b[34mtidyr  \u001b[39m 1.3.0      \u001b[32m✔\u001b[39m \u001b[34mstringr\u001b[39m 1.5.0 \n",
      "\u001b[32m✔\u001b[39m \u001b[34mreadr  \u001b[39m 2.1.3      \u001b[32m✔\u001b[39m \u001b[34mforcats\u001b[39m 1.0.0 \n",
      "── \u001b[1mConflicts\u001b[22m ─────────────────────────────────────────────────────────────────────────────────────────────────────────────────────────────────────────────────────────────────────────────────────────────────────────────────────────────────────────────────────────────────────────────────────────────────────────────────────────────────────────────── tidyverse_conflicts() ──\n",
      "\u001b[31m✖\u001b[39m \u001b[34mdplyr\u001b[39m::\u001b[32mfilter()\u001b[39m masks \u001b[34mstats\u001b[39m::filter()\n",
      "\u001b[31m✖\u001b[39m \u001b[34mdplyr\u001b[39m::\u001b[32mlag()\u001b[39m    masks \u001b[34mstats\u001b[39m::lag()\n"
     ]
    }
   ],
   "source": [
    "if (!require('tidyverse')) install.packages('tidyverse')"
   ]
  },
  {
   "cell_type": "code",
   "execution_count": 2,
   "id": "c15c25c0",
   "metadata": {},
   "outputs": [],
   "source": [
    "if (!require('ggplot2')) install.packages('ggplot2')"
   ]
  },
  {
   "cell_type": "code",
   "execution_count": 3,
   "id": "eb7a4d33",
   "metadata": {},
   "outputs": [],
   "source": [
    "if (!require('dplyr')) install.packages('dplyr')"
   ]
  },
  {
   "cell_type": "markdown",
   "id": "88fe4818",
   "metadata": {},
   "source": [
    "## Wstępna analiza danych\n",
    "W tutorialu wykorzystamy wbudowany w R zbiór `diamonds`."
   ]
  },
  {
   "cell_type": "code",
   "execution_count": 4,
   "id": "c1940a40",
   "metadata": {},
   "outputs": [],
   "source": [
    "data(diamonds)"
   ]
  },
  {
   "cell_type": "markdown",
   "id": "92aa909f",
   "metadata": {},
   "source": [
    "Pierwszym krokiem analizy powinno być zorientowanie się jakie mamy kolumny w zbiorze."
   ]
  },
  {
   "cell_type": "code",
   "execution_count": 5,
   "id": "66d43149",
   "metadata": {},
   "outputs": [
    {
     "data": {
      "text/html": [
       "<style>\n",
       ".list-inline {list-style: none; margin:0; padding: 0}\n",
       ".list-inline>li {display: inline-block}\n",
       ".list-inline>li:not(:last-child)::after {content: \"\\00b7\"; padding: 0 .5ex}\n",
       "</style>\n",
       "<ol class=list-inline><li>'carat'</li><li>'cut'</li><li>'color'</li><li>'clarity'</li><li>'depth'</li><li>'table'</li><li>'price'</li><li>'x'</li><li>'y'</li><li>'z'</li></ol>\n"
      ],
      "text/latex": [
       "\\begin{enumerate*}\n",
       "\\item 'carat'\n",
       "\\item 'cut'\n",
       "\\item 'color'\n",
       "\\item 'clarity'\n",
       "\\item 'depth'\n",
       "\\item 'table'\n",
       "\\item 'price'\n",
       "\\item 'x'\n",
       "\\item 'y'\n",
       "\\item 'z'\n",
       "\\end{enumerate*}\n"
      ],
      "text/markdown": [
       "1. 'carat'\n",
       "2. 'cut'\n",
       "3. 'color'\n",
       "4. 'clarity'\n",
       "5. 'depth'\n",
       "6. 'table'\n",
       "7. 'price'\n",
       "8. 'x'\n",
       "9. 'y'\n",
       "10. 'z'\n",
       "\n",
       "\n"
      ],
      "text/plain": [
       " [1] \"carat\"   \"cut\"     \"color\"   \"clarity\" \"depth\"   \"table\"   \"price\"  \n",
       " [8] \"x\"       \"y\"       \"z\"      "
      ]
     },
     "metadata": {},
     "output_type": "display_data"
    }
   ],
   "source": [
    "colnames(diamonds)"
   ]
  },
  {
   "cell_type": "markdown",
   "id": "9d4c13f6",
   "metadata": {},
   "source": [
    "W kolejnym kroku można zerknąć na kilka wierszy zbioru danych, służy do tego polecenie `head`."
   ]
  },
  {
   "cell_type": "code",
   "execution_count": 6,
   "id": "97c1ec1d",
   "metadata": {},
   "outputs": [
    {
     "data": {
      "text/html": [
       "<table class=\"dataframe\">\n",
       "<caption>A tibble: 6 × 10</caption>\n",
       "<thead>\n",
       "\t<tr><th scope=col>carat</th><th scope=col>cut</th><th scope=col>color</th><th scope=col>clarity</th><th scope=col>depth</th><th scope=col>table</th><th scope=col>price</th><th scope=col>x</th><th scope=col>y</th><th scope=col>z</th></tr>\n",
       "\t<tr><th scope=col>&lt;dbl&gt;</th><th scope=col>&lt;ord&gt;</th><th scope=col>&lt;ord&gt;</th><th scope=col>&lt;ord&gt;</th><th scope=col>&lt;dbl&gt;</th><th scope=col>&lt;dbl&gt;</th><th scope=col>&lt;int&gt;</th><th scope=col>&lt;dbl&gt;</th><th scope=col>&lt;dbl&gt;</th><th scope=col>&lt;dbl&gt;</th></tr>\n",
       "</thead>\n",
       "<tbody>\n",
       "\t<tr><td>0.23</td><td>Ideal    </td><td>E</td><td>SI2 </td><td>61.5</td><td>55</td><td>326</td><td>3.95</td><td>3.98</td><td>2.43</td></tr>\n",
       "\t<tr><td>0.21</td><td>Premium  </td><td>E</td><td>SI1 </td><td>59.8</td><td>61</td><td>326</td><td>3.89</td><td>3.84</td><td>2.31</td></tr>\n",
       "\t<tr><td>0.23</td><td>Good     </td><td>E</td><td>VS1 </td><td>56.9</td><td>65</td><td>327</td><td>4.05</td><td>4.07</td><td>2.31</td></tr>\n",
       "\t<tr><td>0.29</td><td>Premium  </td><td>I</td><td>VS2 </td><td>62.4</td><td>58</td><td>334</td><td>4.20</td><td>4.23</td><td>2.63</td></tr>\n",
       "\t<tr><td>0.31</td><td>Good     </td><td>J</td><td>SI2 </td><td>63.3</td><td>58</td><td>335</td><td>4.34</td><td>4.35</td><td>2.75</td></tr>\n",
       "\t<tr><td>0.24</td><td>Very Good</td><td>J</td><td>VVS2</td><td>62.8</td><td>57</td><td>336</td><td>3.94</td><td>3.96</td><td>2.48</td></tr>\n",
       "</tbody>\n",
       "</table>\n"
      ],
      "text/latex": [
       "A tibble: 6 × 10\n",
       "\\begin{tabular}{llllllllll}\n",
       " carat & cut & color & clarity & depth & table & price & x & y & z\\\\\n",
       " <dbl> & <ord> & <ord> & <ord> & <dbl> & <dbl> & <int> & <dbl> & <dbl> & <dbl>\\\\\n",
       "\\hline\n",
       "\t 0.23 & Ideal     & E & SI2  & 61.5 & 55 & 326 & 3.95 & 3.98 & 2.43\\\\\n",
       "\t 0.21 & Premium   & E & SI1  & 59.8 & 61 & 326 & 3.89 & 3.84 & 2.31\\\\\n",
       "\t 0.23 & Good      & E & VS1  & 56.9 & 65 & 327 & 4.05 & 4.07 & 2.31\\\\\n",
       "\t 0.29 & Premium   & I & VS2  & 62.4 & 58 & 334 & 4.20 & 4.23 & 2.63\\\\\n",
       "\t 0.31 & Good      & J & SI2  & 63.3 & 58 & 335 & 4.34 & 4.35 & 2.75\\\\\n",
       "\t 0.24 & Very Good & J & VVS2 & 62.8 & 57 & 336 & 3.94 & 3.96 & 2.48\\\\\n",
       "\\end{tabular}\n"
      ],
      "text/markdown": [
       "\n",
       "A tibble: 6 × 10\n",
       "\n",
       "| carat &lt;dbl&gt; | cut &lt;ord&gt; | color &lt;ord&gt; | clarity &lt;ord&gt; | depth &lt;dbl&gt; | table &lt;dbl&gt; | price &lt;int&gt; | x &lt;dbl&gt; | y &lt;dbl&gt; | z &lt;dbl&gt; |\n",
       "|---|---|---|---|---|---|---|---|---|---|\n",
       "| 0.23 | Ideal     | E | SI2  | 61.5 | 55 | 326 | 3.95 | 3.98 | 2.43 |\n",
       "| 0.21 | Premium   | E | SI1  | 59.8 | 61 | 326 | 3.89 | 3.84 | 2.31 |\n",
       "| 0.23 | Good      | E | VS1  | 56.9 | 65 | 327 | 4.05 | 4.07 | 2.31 |\n",
       "| 0.29 | Premium   | I | VS2  | 62.4 | 58 | 334 | 4.20 | 4.23 | 2.63 |\n",
       "| 0.31 | Good      | J | SI2  | 63.3 | 58 | 335 | 4.34 | 4.35 | 2.75 |\n",
       "| 0.24 | Very Good | J | VVS2 | 62.8 | 57 | 336 | 3.94 | 3.96 | 2.48 |\n",
       "\n"
      ],
      "text/plain": [
       "  carat cut       color clarity depth table price x    y    z   \n",
       "1 0.23  Ideal     E     SI2     61.5  55    326   3.95 3.98 2.43\n",
       "2 0.21  Premium   E     SI1     59.8  61    326   3.89 3.84 2.31\n",
       "3 0.23  Good      E     VS1     56.9  65    327   4.05 4.07 2.31\n",
       "4 0.29  Premium   I     VS2     62.4  58    334   4.20 4.23 2.63\n",
       "5 0.31  Good      J     SI2     63.3  58    335   4.34 4.35 2.75\n",
       "6 0.24  Very Good J     VVS2    62.8  57    336   3.94 3.96 2.48"
      ]
     },
     "metadata": {},
     "output_type": "display_data"
    }
   ],
   "source": [
    "head(diamonds)"
   ]
  },
  {
   "cell_type": "markdown",
   "id": "9e1af8ca",
   "metadata": {},
   "source": [
    "Ten krok pozwala odpowiedzieć na pytanie jakie dane są numeryczne, jakie kategoryczne. Bardzo pomocną funkcją, która wykona też podstawowe analizy zbioru danych w zakresie statystyk, jest `summary`."
   ]
  },
  {
   "cell_type": "code",
   "execution_count": 7,
   "id": "93295f26",
   "metadata": {},
   "outputs": [
    {
     "data": {
      "text/plain": [
       "     carat               cut        color        clarity          depth      \n",
       " Min.   :0.2000   Fair     : 1610   D: 6775   SI1    :13065   Min.   :43.00  \n",
       " 1st Qu.:0.4000   Good     : 4906   E: 9797   VS2    :12258   1st Qu.:61.00  \n",
       " Median :0.7000   Very Good:12082   F: 9542   SI2    : 9194   Median :61.80  \n",
       " Mean   :0.7979   Premium  :13791   G:11292   VS1    : 8171   Mean   :61.75  \n",
       " 3rd Qu.:1.0400   Ideal    :21551   H: 8304   VVS2   : 5066   3rd Qu.:62.50  \n",
       " Max.   :5.0100                     I: 5422   VVS1   : 3655   Max.   :79.00  \n",
       "                                    J: 2808   (Other): 2531                  \n",
       "     table           price             x                y         \n",
       " Min.   :43.00   Min.   :  326   Min.   : 0.000   Min.   : 0.000  \n",
       " 1st Qu.:56.00   1st Qu.:  950   1st Qu.: 4.710   1st Qu.: 4.720  \n",
       " Median :57.00   Median : 2401   Median : 5.700   Median : 5.710  \n",
       " Mean   :57.46   Mean   : 3933   Mean   : 5.731   Mean   : 5.735  \n",
       " 3rd Qu.:59.00   3rd Qu.: 5324   3rd Qu.: 6.540   3rd Qu.: 6.540  \n",
       " Max.   :95.00   Max.   :18823   Max.   :10.740   Max.   :58.900  \n",
       "                                                                  \n",
       "       z         \n",
       " Min.   : 0.000  \n",
       " 1st Qu.: 2.910  \n",
       " Median : 3.530  \n",
       " Mean   : 3.539  \n",
       " 3rd Qu.: 4.040  \n",
       " Max.   :31.800  \n",
       "                 "
      ]
     },
     "metadata": {},
     "output_type": "display_data"
    }
   ],
   "source": [
    "summary(diamonds)"
   ]
  },
  {
   "cell_type": "markdown",
   "id": "eccee3e3",
   "metadata": {},
   "source": [
    "Funkcja ta dla danych numerycznych prezentuje wartości minimalne i maksymalne, średnią i medianę a także kwantyle. Dane kategoryczne opisane są zaś licznością dla każdej z kategorii."
   ]
  },
  {
   "cell_type": "markdown",
   "id": "4b8ded2a",
   "metadata": {},
   "source": [
    "# Rozkłady"
   ]
  },
  {
   "cell_type": "markdown",
   "id": "b754962c",
   "metadata": {},
   "source": [
    "Język R oferuje funkcję `hist`, która przestawia dane w postaci histogramu. Przyjrzyjmy się histogramowi cechy `price`."
   ]
  },
  {
   "cell_type": "code",
   "execution_count": 8,
   "id": "1598679a",
   "metadata": {},
   "outputs": [
    {
     "data": {
      "image/png": "[encoded data removed]",
      "text/plain": [
       "Plot with title “Histogram of diamonds$price”"
      ]
     },
     "metadata": {
      "image/png": {
       "height": 420,
       "width": 420
      }
     },
     "output_type": "display_data"
    }
   ],
   "source": [
    "hist(diamonds$price)"
   ]
  },
  {
   "cell_type": "markdown",
   "id": "008bb5d2",
   "metadata": {},
   "source": [
    "Histogram też można wyrysować dla zadanej liczby kubełków używając parametru `breaks`:"
   ]
  },
  {
   "cell_type": "code",
   "execution_count": 9,
   "id": "f57db63a",
   "metadata": {},
   "outputs": [
    {
     "data": {
      "image/png": "[encoded data removed]",
      "text/plain": [
       "Plot with title “Histogram of diamonds$price”"
      ]
     },
     "metadata": {
      "image/png": {
       "height": 420,
       "width": 420
      }
     },
     "output_type": "display_data"
    }
   ],
   "source": [
    "hist(diamonds$price, breaks = 8)"
   ]
  },
  {
   "cell_type": "markdown",
   "id": "5e110978",
   "metadata": {},
   "source": [
    "Natomiast jeśli dane mają duży rozrzut wartości, warto przedstawić je na wykresie logarytmicznym - tu posłużymy się biblioteką `ggplot2`:"
   ]
  },
  {
   "cell_type": "code",
   "execution_count": 10,
   "id": "4f0ffb0d",
   "metadata": {},
   "outputs": [
    {
     "data": {
      "image/png": "[encoded data removed]",
      "text/plain": [
       "plot without title"
      ]
     },
     "metadata": {
      "image/png": {
       "height": 420,
       "width": 420
      }
     },
     "output_type": "display_data"
    }
   ],
   "source": [
    "ggplot(diamonds, aes(x=price)) + geom_histogram(color=\"black\", fill=\"gray\", bins=8) + scale_x_log10() + scale_y_log10()"
   ]
  },
  {
   "cell_type": "markdown",
   "id": "f8279fce",
   "metadata": {},
   "source": [
    "# Analiza wielowymiarowa\n",
    "W kolejnym kroku zapoznamy się z podstawami analizy wielowymiarowej. Możemy przykładowo spojrzeć na dane numeryczne przez pryzmat cechy kategorycznej, jak przedstawiono poniżej:"
   ]
  },
  {
   "cell_type": "code",
   "execution_count": 11,
   "id": "8581b98d",
   "metadata": {},
   "outputs": [
    {
     "data": {
      "image/png": "[encoded data removed]",
      "text/plain": [
       "plot without title"
      ]
     },
     "metadata": {
      "image/png": {
       "height": 420,
       "width": 420
      }
     },
     "output_type": "display_data"
    }
   ],
   "source": [
    "ggplot(data = diamonds) + geom_histogram(mapping = aes(x = carat), binwidth = 0.5) + facet_wrap(~cut)"
   ]
  },
  {
   "cell_type": "markdown",
   "id": "83634a1d",
   "metadata": {},
   "source": [
    "Podobnie można spojrzeć na dane, ale przedstawiając je jako wykresy pudełkowe:"
   ]
  },
  {
   "cell_type": "code",
   "execution_count": 12,
   "id": "7cbc792a",
   "metadata": {},
   "outputs": [
    {
     "data": {
      "image/png": "[encoded data removed]",
      "text/plain": [
       "plot without title"
      ]
     },
     "metadata": {
      "image/png": {
       "height": 420,
       "width": 420
      }
     },
     "output_type": "display_data"
    }
   ],
   "source": [
    "ggplot(diamonds, aes(y = cut, x = price)) + geom_boxplot()"
   ]
  },
  {
   "cell_type": "markdown",
   "id": "d46d0d01",
   "metadata": {},
   "source": [
    "Spróbujmy przyjrzeć się danym kategorycznym na dwóch wymiarach:"
   ]
  },
  {
   "cell_type": "code",
   "execution_count": 13,
   "id": "554019cc",
   "metadata": {},
   "outputs": [
    {
     "data": {
      "text/plain": [
       "           \n",
       "               D    E    F    G    H    I    J\n",
       "  Fair       163  224  312  314  303  175  119\n",
       "  Good       662  933  909  871  702  522  307\n",
       "  Very Good 1513 2400 2164 2299 1824 1204  678\n",
       "  Premium   1603 2337 2331 2924 2360 1428  808\n",
       "  Ideal     2834 3903 3826 4884 3115 2093  896"
      ]
     },
     "metadata": {},
     "output_type": "display_data"
    }
   ],
   "source": [
    "table(diamonds$cut, diamonds$color)"
   ]
  },
  {
   "cell_type": "markdown",
   "id": "81f8a8e3",
   "metadata": {},
   "source": [
    "W ten sposób szybko możemy zorientować się jak wygląda liczność na przecięciu dwóch kategorii.\n",
    "\n",
    "Warto także przypomnieć wykres stem and leaf:"
   ]
  },
  {
   "cell_type": "code",
   "execution_count": 14,
   "id": "29216649",
   "metadata": {},
   "outputs": [
    {
     "name": "stdout",
     "output_type": "stream",
     "text": [
      "\n",
      "  The decimal point is at the |\n",
      "\n",
      "  55 | 1\n",
      "  56 | 9\n",
      "  57 | 589\n",
      "  58 | 01248\n",
      "  59 | 222334445678889999\n",
      "  60 | 0001222344455777777778899999999\n",
      "  61 | 000001112222333344444555555566666666777777788888889999999\n",
      "  62 | 000011111222222333334444445555566666777777888899999\n",
      "  63 | 0001122333334467788888\n",
      "  64 | 001456\n",
      "  65 | 1237\n",
      "  66 | 3\n",
      "\n"
     ]
    }
   ],
   "source": [
    "stem(diamonds[1:200,]$depth)"
   ]
  },
  {
   "cell_type": "markdown",
   "id": "77db5eb5",
   "metadata": {},
   "source": [
    "# Kowariancje i korelacje"
   ]
  },
  {
   "cell_type": "markdown",
   "id": "a45257bb",
   "metadata": {},
   "source": [
    "Istotnym spojrzeniem na dane jest analiza kowariancji i korelacji.\n",
    "\n",
    "Zacznijmy od analizy kowariancji. Spróbujmy odpowiedzieć na pytanie jak zmienia się cena w zależności od liczby karatów. Mając na uwadze dużą liczność zbioru, agregujemy pojedyncze punkty danych do wykresów pudełkowych."
   ]
  },
  {
   "cell_type": "code",
   "execution_count": 15,
   "id": "97487c1f",
   "metadata": {},
   "outputs": [
    {
     "data": {
      "image/png": "[encoded data removed]",
      "text/plain": [
       "plot without title"
      ]
     },
     "metadata": {
      "image/png": {
       "height": 420,
       "width": 420
      }
     },
     "output_type": "display_data"
    }
   ],
   "source": [
    "ggplot(data = diamonds, mapping = aes(x = carat, y = price)) + geom_boxplot(mapping = aes(group = cut_width(carat, 0.2)))"
   ]
  },
  {
   "cell_type": "markdown",
   "id": "6b0c863c",
   "metadata": {},
   "source": [
    "Chcąc zbadać korelacje, możemy sięgnąć do innej przydatnej biblioteki, `corrplot`, która w elegancki sposób prezentuje korelacje:"
   ]
  },
  {
   "cell_type": "code",
   "execution_count": 16,
   "id": "0ae30a1a",
   "metadata": {
    "scrolled": true
   },
   "outputs": [
    {
     "ename": "ERROR",
     "evalue": "Error in corrplot(cor(diamonds[, c(1, 5, 6, 7, 8, 9)]), method = \"circle\"): could not find function \"corrplot\"\n",
     "output_type": "error",
     "traceback": [
      "Error in corrplot(cor(diamonds[, c(1, 5, 6, 7, 8, 9)]), method = \"circle\"): could not find function \"corrplot\"\nTraceback:\n"
     ]
    }
   ],
   "source": [
    "corrplot(cor(diamonds[,c(1, 5,6,7,8,9)]), method = \"circle\")"
   ]
  },
  {
   "cell_type": "markdown",
   "id": "16bdef87",
   "metadata": {},
   "source": [
    "Naturalnie, najsilniej skorelowane są wartości same ze sobą, ale widzimy też, że istnieje silna zależność ceny od liczby karatów."
   ]
  },
  {
   "cell_type": "markdown",
   "id": "1b9c7165",
   "metadata": {},
   "source": [
    "Natualnie, przedstawione powyżej metody są bazowymi metodami eksploracyjnej analizy danych. Ale znając konkretny cel badania i podstawowy wachlarz metod, można rozpocząć dalszą eksplorację ukierunkowaną na ten cel."
   ]
  },
  {
   "cell_type": "markdown",
   "id": "8b0d85c0",
   "metadata": {},
   "source": [
    "# Polecane materiały\n",
    "\n",
    "Świetna książka, która pozwala wykorzystać potencjał języka R do analizy danych, to Wickham, H., & Grolemund, G. (2023). R for data science: import, tidy, transform, visualize, and model data. \" O'Reilly Media, Inc.\". https://r4ds.hadley.nz/."
   ]
  }
 ],
 "metadata": {
  "kernelspec": {
   "display_name": "R",
   "language": "R",
   "name": "ir"
  },
  "language_info": {
   "codemirror_mode": "r",
   "file_extension": ".r",
   "mimetype": "text/x-r-source",
   "name": "R",
   "pygments_lexer": "r",
   "version": "4.2.2"
  }
 },
 "nbformat": 4,
 "nbformat_minor": 5
}
